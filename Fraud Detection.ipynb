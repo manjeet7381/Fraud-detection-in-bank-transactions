{
 "cells": [
  {
   "cell_type": "markdown",
   "id": "e706467f",
   "metadata": {},
   "source": [
    "## Import Libraries"
   ]
  },
  {
   "cell_type": "code",
   "execution_count": 11,
   "id": "97477c06",
   "metadata": {},
   "outputs": [],
   "source": [
    "import pandas as pd\n",
    "import numpy as np\n",
    "import seaborn as sns\n",
    "from datetime import datetime\n",
    "\n",
    "import matplotlib as mpl\n",
    "import matplotlib.pyplot as plt\n",
    "mpl.rc('axes', labelsize=12)\n",
    "mpl.rc('xtick', labelsize=12)\n",
    "mpl.rc('ytick', labelsize=12)\n",
    "\n",
    "\n",
    "from sklearn.preprocessing import LabelEncoder, StandardScaler\n",
    "from sklearn.pipeline import Pipeline\n",
    "from sklearn.metrics import roc_auc_score, f1_score, confusion_matrix, precision_recall_curve\n",
    "from sklearn.model_selection import RandomizedSearchCV, PredefinedSplit, StratifiedShuffleSplit\n",
    "from sklearn.feature_selection import mutual_info_classif\n",
    "\n",
    "# models \n",
    "from sklearn.svm import SVC, NuSVC, OneClassSVM\n",
    "from sklearn.tree import DecisionTreeClassifier\n",
    "from sklearn.ensemble import RandomForestClassifier, AdaBoostClassifier, GradientBoostingClassifier\n",
    "from sklearn.linear_model import LogisticRegression\n",
    "from sklearn.cluster import KMeans\n",
    "from sklearn.neighbors import KNeighborsClassifier\n",
    "from tensorflow import keras"
   ]
  },
  {
   "cell_type": "markdown",
   "id": "26b70541",
   "metadata": {},
   "source": [
    "## Data Importation and Formatting "
   ]
  },
  {
   "cell_type": "code",
   "execution_count": 12,
   "id": "0d232245",
   "metadata": {},
   "outputs": [
    {
     "name": "stdout",
     "output_type": "stream",
     "text": [
      "data loaded\n"
     ]
    }
   ],
   "source": [
    "data = pd.read_csv('transactions_obf.csv')\n",
    "target = pd.read_csv('labels_obf.csv')\n",
    "print('data loaded')\n",
    "\n",
    "#----------------------\n",
    "# Labels Preparation\n",
    "#----------------------\n",
    "# Fomat tareget labels: \n",
    "# fraud labels are provided as events. \n",
    "# To train models we need to convert them to \n",
    "# a list of 0 or 1 for each transaction\n",
    "ind_dict = dict((k,i) for i,k in enumerate(data.eventId))\n",
    "inter = set(ind_dict).intersection(target.eventId)\n",
    "indices = [ ind_dict[x] for x in inter ]\n",
    "indices.sort()\n",
    "y = np.zeros(data.shape[0])\n",
    "y[indices] = 1"
   ]
  },
  {
   "cell_type": "markdown",
   "id": "62129109",
   "metadata": {},
   "source": [
    "## Data Exploration "
   ]
  },
  {
   "cell_type": "code",
   "execution_count": 13,
   "id": "b08a5c4f",
   "metadata": {},
   "outputs": [
    {
     "data": {
      "text/html": [
       "<div>\n",
       "<style scoped>\n",
       "    .dataframe tbody tr th:only-of-type {\n",
       "        vertical-align: middle;\n",
       "    }\n",
       "\n",
       "    .dataframe tbody tr th {\n",
       "        vertical-align: top;\n",
       "    }\n",
       "\n",
       "    .dataframe thead th {\n",
       "        text-align: right;\n",
       "    }\n",
       "</style>\n",
       "<table border=\"1\" class=\"dataframe\">\n",
       "  <thead>\n",
       "    <tr style=\"text-align: right;\">\n",
       "      <th></th>\n",
       "      <th>transactionTime</th>\n",
       "      <th>eventId</th>\n",
       "      <th>accountNumber</th>\n",
       "      <th>merchantId</th>\n",
       "      <th>mcc</th>\n",
       "      <th>merchantCountry</th>\n",
       "      <th>merchantZip</th>\n",
       "      <th>posEntryMode</th>\n",
       "      <th>transactionAmount</th>\n",
       "      <th>availableCash</th>\n",
       "    </tr>\n",
       "  </thead>\n",
       "  <tbody>\n",
       "    <tr>\n",
       "      <th>0</th>\n",
       "      <td>2017-01-01T00:00:00Z</td>\n",
       "      <td>18688431A1</td>\n",
       "      <td>94f9b4e7</td>\n",
       "      <td>b76d06</td>\n",
       "      <td>5968</td>\n",
       "      <td>826</td>\n",
       "      <td>CR0</td>\n",
       "      <td>1</td>\n",
       "      <td>10.72</td>\n",
       "      <td>7500</td>\n",
       "    </tr>\n",
       "    <tr>\n",
       "      <th>1</th>\n",
       "      <td>2017-01-01T00:49:03Z</td>\n",
       "      <td>2164986A1</td>\n",
       "      <td>648e19cf</td>\n",
       "      <td>718cc6</td>\n",
       "      <td>5499</td>\n",
       "      <td>826</td>\n",
       "      <td>DE14</td>\n",
       "      <td>81</td>\n",
       "      <td>21.19</td>\n",
       "      <td>4500</td>\n",
       "    </tr>\n",
       "    <tr>\n",
       "      <th>2</th>\n",
       "      <td>2017-01-01T00:43:17Z</td>\n",
       "      <td>31294145A1</td>\n",
       "      <td>c0ffab1b</td>\n",
       "      <td>94cafc</td>\n",
       "      <td>5735</td>\n",
       "      <td>442</td>\n",
       "      <td>NaN</td>\n",
       "      <td>81</td>\n",
       "      <td>5.04</td>\n",
       "      <td>9500</td>\n",
       "    </tr>\n",
       "    <tr>\n",
       "      <th>3</th>\n",
       "      <td>2017-01-01T00:15:07Z</td>\n",
       "      <td>11162049A1</td>\n",
       "      <td>038099dd</td>\n",
       "      <td>7d5803</td>\n",
       "      <td>5499</td>\n",
       "      <td>826</td>\n",
       "      <td>NR1</td>\n",
       "      <td>81</td>\n",
       "      <td>21.00</td>\n",
       "      <td>7500</td>\n",
       "    </tr>\n",
       "    <tr>\n",
       "      <th>4</th>\n",
       "      <td>2017-01-01T00:37:09Z</td>\n",
       "      <td>17067235A1</td>\n",
       "      <td>3130363b</td>\n",
       "      <td>12ca76</td>\n",
       "      <td>5411</td>\n",
       "      <td>826</td>\n",
       "      <td>M50</td>\n",
       "      <td>81</td>\n",
       "      <td>47.00</td>\n",
       "      <td>10500</td>\n",
       "    </tr>\n",
       "  </tbody>\n",
       "</table>\n",
       "</div>"
      ],
      "text/plain": [
       "        transactionTime     eventId accountNumber merchantId   mcc  \\\n",
       "0  2017-01-01T00:00:00Z  18688431A1      94f9b4e7     b76d06  5968   \n",
       "1  2017-01-01T00:49:03Z   2164986A1      648e19cf     718cc6  5499   \n",
       "2  2017-01-01T00:43:17Z  31294145A1      c0ffab1b     94cafc  5735   \n",
       "3  2017-01-01T00:15:07Z  11162049A1      038099dd     7d5803  5499   \n",
       "4  2017-01-01T00:37:09Z  17067235A1      3130363b     12ca76  5411   \n",
       "\n",
       "   merchantCountry merchantZip  posEntryMode  transactionAmount  availableCash  \n",
       "0              826         CR0             1              10.72           7500  \n",
       "1              826        DE14            81              21.19           4500  \n",
       "2              442         NaN            81               5.04           9500  \n",
       "3              826         NR1            81              21.00           7500  \n",
       "4              826         M50            81              47.00          10500  "
      ]
     },
     "execution_count": 13,
     "metadata": {},
     "output_type": "execute_result"
    }
   ],
   "source": [
    "data.head()"
   ]
  },
  {
   "cell_type": "code",
   "execution_count": 14,
   "id": "589fee21",
   "metadata": {},
   "outputs": [
    {
     "name": "stdout",
     "output_type": "stream",
     "text": [
      "<class 'pandas.core.frame.DataFrame'>\n",
      "RangeIndex: 118621 entries, 0 to 118620\n",
      "Data columns (total 10 columns):\n",
      " #   Column             Non-Null Count   Dtype  \n",
      "---  ------             --------------   -----  \n",
      " 0   transactionTime    118621 non-null  object \n",
      " 1   eventId            118621 non-null  object \n",
      " 2   accountNumber      118621 non-null  object \n",
      " 3   merchantId         118621 non-null  object \n",
      " 4   mcc                118621 non-null  int64  \n",
      " 5   merchantCountry    118621 non-null  int64  \n",
      " 6   merchantZip        95616 non-null   object \n",
      " 7   posEntryMode       118621 non-null  int64  \n",
      " 8   transactionAmount  118621 non-null  float64\n",
      " 9   availableCash      118621 non-null  int64  \n",
      "dtypes: float64(1), int64(4), object(5)\n",
      "memory usage: 9.1+ MB\n"
     ]
    }
   ],
   "source": [
    "data.info()"
   ]
  },
  {
   "cell_type": "markdown",
   "id": "f3359100",
   "metadata": {},
   "source": [
    "## Comment 1\n",
    "there are ~120.000 transactions\n",
    "\n",
    "there are 10 features: 9 are categorical (objects and integers) and 1 continuous ('transactionAmount')\n",
    "\n",
    "Let's check more in detail the continuous one:"
   ]
  },
  {
   "cell_type": "code",
   "execution_count": 15,
   "id": "99beb4c4",
   "metadata": {},
   "outputs": [
    {
     "data": {
      "text/plain": [
       "count    118621.000000\n",
       "mean         53.674774\n",
       "std         183.665315\n",
       "min          -0.150000\n",
       "25%           8.030000\n",
       "50%          20.250000\n",
       "75%          49.000000\n",
       "max       13348.000000\n",
       "Name: transactionAmount, dtype: float64"
      ]
     },
     "execution_count": 15,
     "metadata": {},
     "output_type": "execute_result"
    }
   ],
   "source": [
    "data['transactionAmount'].describe()"
   ]
  },
  {
   "cell_type": "markdown",
   "id": "ea8eac72",
   "metadata": {},
   "source": [
    "## Check for null data"
   ]
  },
  {
   "cell_type": "code",
   "execution_count": 16,
   "id": "d93a586c",
   "metadata": {},
   "outputs": [
    {
     "data": {
      "text/plain": [
       "transactionTime          0\n",
       "eventId                  0\n",
       "accountNumber            0\n",
       "merchantId               0\n",
       "mcc                      0\n",
       "merchantCountry          0\n",
       "merchantZip          23005\n",
       "posEntryMode             0\n",
       "transactionAmount        0\n",
       "availableCash            0\n",
       "dtype: int64"
      ]
     },
     "execution_count": 16,
     "metadata": {},
     "output_type": "execute_result"
    }
   ],
   "source": [
    "data.isnull().sum()"
   ]
  },
  {
   "cell_type": "markdown",
   "id": "247e8df4",
   "metadata": {},
   "source": [
    "## Dealing with null values:\n",
    "\n",
    "There are 23005 null values in the columns 'merchantZip' (i.e., zip code of merchants).\n",
    "\n",
    "I cannot extrapolates these values therefore I am going to encode them as a category (see below when I encode this feature with \"labelEncoder\")."
   ]
  },
  {
   "cell_type": "markdown",
   "id": "68062b63",
   "metadata": {},
   "source": [
    "## Check for duplicated transactions"
   ]
  },
  {
   "cell_type": "code",
   "execution_count": 17,
   "id": "0ac7593f",
   "metadata": {},
   "outputs": [
    {
     "data": {
      "text/plain": [
       "False"
      ]
     },
     "execution_count": 17,
     "metadata": {},
     "output_type": "execute_result"
    }
   ],
   "source": [
    "any(data.duplicated())"
   ]
  },
  {
   "cell_type": "markdown",
   "id": "b95de6fa",
   "metadata": {},
   "source": [
    "## Check for Labels distribution"
   ]
  },
  {
   "cell_type": "code",
   "execution_count": 18,
   "id": "dac5a406",
   "metadata": {},
   "outputs": [
    {
     "name": "stdout",
     "output_type": "stream",
     "text": [
      "overall there are only 875 frauds!! (0.74%)\n"
     ]
    },
    {
     "data": {
      "image/png": "[encoded data removed]",
      "text/plain": [
       "<Figure size 640x480 with 1 Axes>"
      ]
     },
     "metadata": {},
     "output_type": "display_data"
    }
   ],
   "source": [
    "plt.hist(y, bins=3)\n",
    "plt.xticks([0,1])\n",
    "\n",
    "print(f'overall there are only {int(sum(y))} frauds!! ({ round(sum(y)*100/len(y),2)}%)')"
   ]
  },
  {
   "cell_type": "markdown",
   "id": "7e7bc2dd",
   "metadata": {},
   "source": [
    "## Comment:\n",
    "As expected, labels are very unbalanced.\n",
    "\n",
    "There are many ways to deal with unbalanced data. For example, weighting more or generate more instances for the under-represented category.\n",
    "\n",
    "I have tried several of these approaches but they did not help here. I am not going to show these attepts to keep this notebook reasonably long."
   ]
  },
  {
   "cell_type": "markdown",
   "id": "6d6de162",
   "metadata": {},
   "source": [
    "## NB: Accuracy is not a good metric for unbalanced data!!\n",
    "Since frauds are only the 1% of the total, by predicting always no-frauds we would have always a 99% accuracy.\n",
    "\n",
    "Therefore, I am going to use the f1 score and the Area under the ROC curve (AUC) instead. Furthermore, I am going to quatify the percent frauds detected from the 400 transactions more likely to be frauds each month\n",
    "\n"
   ]
  },
  {
   "cell_type": "markdown",
   "id": "9fdc1bdd",
   "metadata": {},
   "source": [
    "## Summary info about frauds\n",
    "Here I check the distributions of:\n",
    "\n",
    "transactions/frauds across time,\n",
    "number of frauds per account and\n",
    "amount of money stolen per account"
   ]
  },
  {
   "cell_type": "code",
   "execution_count": 19,
   "id": "969ed84a",
   "metadata": {},
   "outputs": [],
   "source": [
    "# prepare data for display\n",
    "df = data.copy()\n",
    "df['transactionTime'] = pd.to_datetime(data['transactionTime'])\n",
    "df['month']  = df.transactionTime.dt.month"
   ]
  },
  {
   "cell_type": "code",
   "execution_count": 20,
   "id": "3a0eedb8",
   "metadata": {},
   "outputs": [
    {
     "name": "stderr",
     "output_type": "stream",
     "text": [
      "C:\\Users\\HP\\AppData\\Local\\Temp\\ipykernel_1132\\2923376525.py:26: UserWarning: No data for colormapping provided via 'c'. Parameters 'cmap' will be ignored\n",
      "  plt.scatter(xx[fraud==1], np.ones(len(xx[fraud==1]))*i, c='r',cmap='cool')\n"
     ]
    },
    {
     "data": {
      "image/png": "[encoded data removed]",
      "text/plain": [
       "<Figure size 1000x800 with 4 Axes>"
      ]
     },
     "metadata": {},
     "output_type": "display_data"
    }
   ],
   "source": [
    "# time-course transactions per account with fraud events \n",
    "#-------------------------\n",
    "mpl.rc('axes', labelsize=12)\n",
    "col = ['k', 'r']\n",
    "\n",
    "\n",
    "fig, axs = plt.subplot_mosaic([['a)', 'c)'], \n",
    "                               ['b)', 'c)'], \n",
    "                               ['b)', 'd)'],\n",
    "                               ['b)', 'd)']],\n",
    "                               figsize=(10,8))\n",
    "\n",
    "\n",
    "\n",
    "\n",
    "#acc_with_frauds = df['accountNumber'].loc[y==1].unique()\n",
    "plt.axes(axs['b)'])\n",
    "acc_with_frauds = sorted(df['accountNumber'].loc[y==1].unique().tolist())\n",
    "for i in range(30):\n",
    "    acc = acc_with_frauds[i]\n",
    "    fraud = y[df['accountNumber']==acc]\n",
    "    xx = df['transactionTime'].loc[df['accountNumber']==acc]\n",
    "    \n",
    "    plt.scatter(xx, np.ones(len(xx))*i, marker='.', c=fraud, cmap='cool', alpha=0.3)\n",
    "   \n",
    "    plt.scatter(xx[fraud==1], np.ones(len(xx[fraud==1]))*i, c='r',cmap='cool')\n",
    "\n",
    "plt.xticks(rotation=45)\n",
    "plt.xlabel('Time')\n",
    "plt.ylabel('Accounts')\n",
    "plt.title('transactions per account')\n",
    "\n",
    "# Frauds per month\n",
    "#-------------------------\n",
    "plt.axes(axs['a)'])\n",
    "plt.hist(df['transactionTime'].loc[y==1], bins=12, color='r')\n",
    "plt.xticks([])\n",
    "plt.ylabel('Frauds number')\n",
    "plt.title('Frauds per month')\n",
    "\n",
    "\n",
    "# Number of frauds per account\n",
    "#-------------------------\n",
    "label_encoder = LabelEncoder()\n",
    "df = data.copy()\n",
    "df.accountNumber = label_encoder.fit_transform(df.accountNumber)\n",
    "df['transactionTime'] = pd.to_datetime(df['transactionTime'])\n",
    "\n",
    "num_fraud_per_account = []\n",
    "for acc in range(max(df['accountNumber'])):\n",
    "    num_fraud_per_account.append(sum(y[df['accountNumber']==acc]))\n",
    "num_fraud_per_account = np.array([num_fraud_per_account])\n",
    "\n",
    "\n",
    "tm = num_fraud_per_account[np.where(num_fraud_per_account>0)]\n",
    "\n",
    "plt.axes(axs['c)'])\n",
    "plt.hist(tm, bins=np.arange(0,60,3))\n",
    "plt.title('Num. of frauds per account')\n",
    "plt.ylabel('Accounts with fraud')\n",
    "\n",
    "# Fraud amount per account\n",
    "#-------------------------\n",
    "num_accounts_with_fraud = len(num_fraud_per_account[np.where(num_fraud_per_account>0)])\n",
    "df_fraud = df.loc[y==1] # take only fraud trans.\n",
    "fraud_amount_per_account = df_fraud.groupby('accountNumber')['transactionAmount'].sum()\n",
    "\n",
    "plt.axes(axs['d)'])\n",
    "plt.hist(fraud_amount_per_account)\n",
    "plt.title('Fraud amount per account (GBP)')\n",
    "plt.ylabel('Accounts with fraud')\n",
    "\n",
    "\n",
    "plt.subplots_adjust(left=0.1,\n",
    "                    bottom=0.1, \n",
    "                    right=0.9, \n",
    "                    top=0.9, \n",
    "                    wspace=0.4, \n",
    "                    hspace=0.8)\n",
    "\n",
    "for label, ax in axs.items():\n",
    "    ax.set_title(label, fontfamily='serif', loc='left', fontsize=16)\n",
    "\n",
    "# plt.figtext(0.4, -0.1, txt, wrap=True, horizontalalignment='center', fontsize=12)"
   ]
  },
  {
   "cell_type": "code",
   "execution_count": 21,
   "id": "fde66676",
   "metadata": {},
   "outputs": [
    {
     "data": {
      "text/plain": [
       "{'percent_fraud_per_transaction': 0.7376434189561712,\n",
       " 'total_num_accounts': 765,\n",
       " 'num_accounts_with_fraud': 167,\n",
       " 'percent_accounts_with_fraud': 21.830065359477125,\n",
       " 'percent_frauds_less_than_1000GBP': 83.23353293413174}"
      ]
     },
     "execution_count": 21,
     "metadata": {},
     "output_type": "execute_result"
    }
   ],
   "source": [
    "# Info about the dataset \n",
    "aa = fraud_amount_per_account.to_numpy()\n",
    "n_frauds_less_than_1000 = len(aa[np.where(fraud_amount_per_account<1000)])\n",
    "tot_frauds = len(aa)\n",
    "\n",
    "d ={\n",
    "    'percent_fraud_per_transaction':(target.shape[0]/data.shape[0])*100, \n",
    "    'total_num_accounts': max(df['accountNumber']),\n",
    "    'num_accounts_with_fraud': num_accounts_with_fraud,\n",
    "    'percent_accounts_with_fraud': (num_accounts_with_fraud/max(df['accountNumber']))*100,\n",
    "    'percent_frauds_less_than_1000GBP': (n_frauds_less_than_1000/tot_frauds)*100  \n",
    "}\n",
    "\n",
    "d"
   ]
  },
  {
   "cell_type": "markdown",
   "id": "8c35b4a0",
   "metadata": {},
   "source": [
    "## Data Split\n",
    "Our model must take one month of transactions (~10.000 events) and return the 400 ones more likely to be frauds. Consider that for 10.000 transactions we have less than 100 frauds.\n",
    "\n",
    "We are going to use the last two months of transactions as test set and the two months before as validation set. As we saw in Fig1a, the number of frauds per month is reasonably similar."
   ]
  },
  {
   "cell_type": "code",
   "execution_count": 22,
   "id": "0ec163ca",
   "metadata": {},
   "outputs": [],
   "source": [
    "X_train_full = data.loc[:len(data)-20000-1]\n",
    "y_train_full = y[:len(data)-20000]\n",
    "\n",
    "# training set: first 8 months\n",
    "X_train = X_train_full.loc[:len(X_train_full)-20000-1]\n",
    "y_train = y_train_full[:len(X_train_full)-20000]\n",
    "\n",
    "# validation set 1 : 9th month\n",
    "X_val1 = X_train_full.loc[len(X_train_full)-20000:len(X_train_full)-10000-1]\n",
    "y_val1 = y_train_full[len(X_train_full)-20000:len(X_train_full)-10000]\n",
    "\n",
    "# validation set 1 : 10th month\n",
    "X_val2 = X_train_full.loc[len(X_train_full)-10000:]\n",
    "y_val2 = y_train_full[len(X_train_full)-10000:]\n",
    "\n",
    "# test set: last two months \n",
    "X_test = data.loc[len(data)-20000:]\n",
    "y_test = y[len(data)-20000:]"
   ]
  },
  {
   "cell_type": "markdown",
   "id": "6933d5d0",
   "metadata": {},
   "source": [
    "## Re-indexing of the new datasets"
   ]
  },
  {
   "cell_type": "code",
   "execution_count": 23,
   "id": "c9df84a0",
   "metadata": {},
   "outputs": [],
   "source": [
    "# the new datasets we have just created still have the index of the \"data\" datafame. \n",
    "# We want each dataset to have an independent indexing\n",
    "# however, we want also to preserve the relative timing of each transaction. For this reason\n",
    "# the old idexes are saved in a new column \"temporal_order\"\n",
    "def reset_indexes(dataset):\n",
    "    save_order_info = False\n",
    "    if save_order_info:\n",
    "        return dataset.reset_index().rename(columns={\"index\": \"temporal_order\"})#.drop(columns='index')\n",
    "    else:\n",
    "        return dataset.reset_index().drop(columns='index')\n",
    "\n",
    "datasets = [X_train, X_val1, X_val2]\n",
    "X_train, X_val1, X_val2 = [reset_indexes(datasets[i]) for i in range(3)]"
   ]
  },
  {
   "cell_type": "code",
   "execution_count": 24,
   "id": "73f0599a",
   "metadata": {},
   "outputs": [
    {
     "data": {
      "text/html": [
       "<div>\n",
       "<style scoped>\n",
       "    .dataframe tbody tr th:only-of-type {\n",
       "        vertical-align: middle;\n",
       "    }\n",
       "\n",
       "    .dataframe tbody tr th {\n",
       "        vertical-align: top;\n",
       "    }\n",
       "\n",
       "    .dataframe thead th {\n",
       "        text-align: right;\n",
       "    }\n",
       "</style>\n",
       "<table border=\"1\" class=\"dataframe\">\n",
       "  <thead>\n",
       "    <tr style=\"text-align: right;\">\n",
       "      <th></th>\n",
       "      <th>transactionTime</th>\n",
       "      <th>eventId</th>\n",
       "      <th>accountNumber</th>\n",
       "      <th>merchantId</th>\n",
       "      <th>mcc</th>\n",
       "      <th>merchantCountry</th>\n",
       "      <th>merchantZip</th>\n",
       "      <th>posEntryMode</th>\n",
       "      <th>transactionAmount</th>\n",
       "      <th>availableCash</th>\n",
       "    </tr>\n",
       "  </thead>\n",
       "  <tbody>\n",
       "    <tr>\n",
       "      <th>0</th>\n",
       "      <td>2017-09-13T18:18:11Z</td>\n",
       "      <td>86026501A1</td>\n",
       "      <td>870830a9</td>\n",
       "      <td>b4793a</td>\n",
       "      <td>5812</td>\n",
       "      <td>826</td>\n",
       "      <td>TW6</td>\n",
       "      <td>5</td>\n",
       "      <td>7.80</td>\n",
       "      <td>8500</td>\n",
       "    </tr>\n",
       "    <tr>\n",
       "      <th>1</th>\n",
       "      <td>2017-09-13T18:04:13Z</td>\n",
       "      <td>86020213A1</td>\n",
       "      <td>870830a9</td>\n",
       "      <td>b4793a</td>\n",
       "      <td>5812</td>\n",
       "      <td>826</td>\n",
       "      <td>TW6</td>\n",
       "      <td>5</td>\n",
       "      <td>7.80</td>\n",
       "      <td>7500</td>\n",
       "    </tr>\n",
       "    <tr>\n",
       "      <th>2</th>\n",
       "      <td>2017-09-13T18:22:34Z</td>\n",
       "      <td>82724490A1</td>\n",
       "      <td>cfc0f3d1</td>\n",
       "      <td>2bc049</td>\n",
       "      <td>5968</td>\n",
       "      <td>826</td>\n",
       "      <td>W36RU</td>\n",
       "      <td>1</td>\n",
       "      <td>6.07</td>\n",
       "      <td>3500</td>\n",
       "    </tr>\n",
       "  </tbody>\n",
       "</table>\n",
       "</div>"
      ],
      "text/plain": [
       "        transactionTime     eventId accountNumber merchantId   mcc  \\\n",
       "0  2017-09-13T18:18:11Z  86026501A1      870830a9     b4793a  5812   \n",
       "1  2017-09-13T18:04:13Z  86020213A1      870830a9     b4793a  5812   \n",
       "2  2017-09-13T18:22:34Z  82724490A1      cfc0f3d1     2bc049  5968   \n",
       "\n",
       "   merchantCountry merchantZip  posEntryMode  transactionAmount  availableCash  \n",
       "0              826         TW6             5               7.80           8500  \n",
       "1              826         TW6             5               7.80           7500  \n",
       "2              826       W36RU             1               6.07           3500  "
      ]
     },
     "execution_count": 24,
     "metadata": {},
     "output_type": "execute_result"
    }
   ],
   "source": [
    "# notice the new index and the new column \"temporal_order\"\n",
    "X_val1.head(3)"
   ]
  },
  {
   "cell_type": "markdown",
   "id": "bfe85c13",
   "metadata": {},
   "source": [
    "## Feature engineering\n",
    "I am going to create new features and test if they improve the performance of a basic Random forest classifier on the validation data.\n",
    "\n",
    "If they are not improving, I drop them.\n",
    "\n",
    "Notice that Random forest classifiers are generally very powerful for anomaly detection and do not require normalization."
   ]
  },
  {
   "cell_type": "markdown",
   "id": "5c482bc9",
   "metadata": {},
   "source": [
    "## Categorical features encoding"
   ]
  },
  {
   "cell_type": "markdown",
   "id": "7991d0e1",
   "metadata": {},
   "source": [
    "### Check number of labels in each catergorical variable"
   ]
  },
  {
   "cell_type": "code",
   "execution_count": 25,
   "id": "89f8d1d4",
   "metadata": {},
   "outputs": [
    {
     "name": "stdout",
     "output_type": "stream",
     "text": [
      "accountNumber: 740\n",
      "merchantId: 25000\n",
      "merchantZip: 2943\n",
      "merchantCountry: 74\n",
      "posEntryMode: 10\n",
      "mcc: 339\n"
     ]
    }
   ],
   "source": [
    "# categorical var (we removed 'transactionTime' and 'eventId')\n",
    "col_list = ['accountNumber','merchantId', 'merchantZip', 'merchantCountry', 'posEntryMode','mcc']\n",
    "for i in col_list:\n",
    "    print(f'{i}: {len(X_train[i].unique())}')"
   ]
  },
  {
   "cell_type": "markdown",
   "id": "17b45eda",
   "metadata": {},
   "source": [
    "### Comment:\n",
    "Since the catergories in each variable are nominal (there is not an order), they should be encoded independently (e.g. using a one hot encoder).\n",
    "\n",
    "However, since there are too many categories, we need to find new metrics. The only exception is posEntryMode that has only 10 categories.\n",
    "\n"
   ]
  },
  {
   "cell_type": "markdown",
   "id": "707eb6da",
   "metadata": {},
   "source": [
    "## Encode labels to number\n",
    "As discussed above, the labels in each category are nominal but are too many to be encoded with a one-hot-ecoder.\n",
    "\n",
    "Therefore, I will encode them as different numbers. The Null values will be encoded as a specific number as well."
   ]
  },
  {
   "cell_type": "code",
   "execution_count": 26,
   "id": "c447ad49",
   "metadata": {},
   "outputs": [],
   "source": [
    "class LabelEncoderExt(object):\n",
    "    \"\"\"\n",
    "    It differs from LabelEncoder by handling new classes (unseen during .fit() ) and providing a value for it [Unknown]\n",
    "    Unknown will be added in fit and transform will take care of new item. It gives unknown class id\n",
    "    \"\"\"\n",
    "   \n",
    "    def __init__(self):\n",
    "        \n",
    "        self.label_encoder = LabelEncoder()\n",
    "        # self.classes_ = self.label_encoder.classes_\n",
    "\n",
    "    def fit(self, data_list):\n",
    "        \"\"\"\n",
    "        This will fit the encoder for all the unique values and introduce unknown value\n",
    "        :param data_list: A list of string\n",
    "        :return: self\n",
    "        \"\"\"\n",
    "        self.label_encoder = self.label_encoder.fit(list(data_list) + ['Unknown'])\n",
    "        self.classes_ = self.label_encoder.classes_\n",
    "\n",
    "        return self\n",
    "\n",
    "    def transform(self, data_list):\n",
    "        \"\"\"\n",
    "        This will transform the data_list to id list where the new values get assigned to Unknown class\n",
    "        :param data_list:\n",
    "        :return:\n",
    "        \"\"\"\n",
    "        data_list = data_list.astype(str).to_list()\n",
    "        new_data_list = data_list\n",
    "        for unique_item in np.unique(data_list):\n",
    "            if unique_item not in self.label_encoder.classes_:\n",
    "                new_data_list = ['Unknown' if x==unique_item else x for x in new_data_list]\n",
    "\n",
    "        return self.label_encoder.transform(new_data_list)"
   ]
  },
  {
   "cell_type": "code",
   "execution_count": 27,
   "id": "925e88fb",
   "metadata": {},
   "outputs": [],
   "source": [
    "X_train_1 = X_train.copy()\n",
    "X_val1_1 = X_val1.copy()\n",
    "X_val2_1 = X_val2.copy()\n",
    "\n",
    "\n",
    "col_list = ['accountNumber','merchantId', 'merchantZip']\n",
    "le = LabelEncoderExt()\n",
    "for col in col_list:\n",
    "    le.fit(X_train[col])\n",
    "    X_train_1[col] = le.transform(X_train[col])\n",
    "    X_val1_1[col] = le.transform(X_val1[col])\n",
    "    X_val2_1[col] = le.transform(X_val2[col])"
   ]
  },
  {
   "cell_type": "markdown",
   "id": "cbaa5e3d",
   "metadata": {},
   "source": [
    "## Encoding of time info\n",
    "the column \"transactionTime\" is divided in columns: hour, day, month"
   ]
  },
  {
   "cell_type": "code",
   "execution_count": 28,
   "id": "b2babdaf",
   "metadata": {},
   "outputs": [],
   "source": [
    "def add_time(dataset):\n",
    "    tm = dataset.copy()\n",
    "    tm['transactionTime'] = pd.to_datetime(tm['transactionTime'])\n",
    "    tm['month']  = tm.transactionTime.dt.month\n",
    "    tm['day']  = tm.transactionTime.dt.day\n",
    "    tm['hour']  = tm.transactionTime.dt.hour\n",
    "    tm.drop(columns=['transactionTime'], inplace=True)\n",
    "    return tm"
   ]
  },
  {
   "cell_type": "code",
   "execution_count": 29,
   "id": "5ff5a73c",
   "metadata": {},
   "outputs": [],
   "source": [
    "datasets = [X_train_1, X_val1_1, X_val2_1]\n",
    "X_train_1, X_val1_1, X_val2_1 = [add_time(datasets[i]) for i in range(3)]"
   ]
  },
  {
   "cell_type": "markdown",
   "id": "6b55010f",
   "metadata": {},
   "source": [
    "## Correction for the skewness of the transaction amount distribution\n",
    "NB: This operation is not essential when using Tree-based alghoritms"
   ]
  },
  {
   "cell_type": "code",
   "execution_count": 30,
   "id": "709371ce",
   "metadata": {},
   "outputs": [
    {
     "name": "stderr",
     "output_type": "stream",
     "text": [
      "C:\\Users\\HP\\AppData\\Local\\Temp\\ipykernel_1132\\2004351700.py:2: SettingWithCopyWarning: \n",
      "A value is trying to be set on a copy of a slice from a DataFrame\n",
      "\n",
      "See the caveats in the documentation: https://pandas.pydata.org/pandas-docs/stable/user_guide/indexing.html#returning-a-view-versus-a-copy\n",
      "  dataset['transactionAmount'].loc[dataset['transactionAmount']<5] = 5 # this trick simplifies working with the log\n"
     ]
    }
   ],
   "source": [
    "def Conv_to_log(dataset):\n",
    "    dataset['transactionAmount'].loc[dataset['transactionAmount']<5] = 5 # this trick simplifies working with the log\n",
    "    dataset['transactionAmount'] = dataset['transactionAmount'].apply(np.log1p)\n",
    "    return dataset\n",
    "\n",
    "\n",
    "datasets = [X_train_1, X_val1_1, X_val2_1]\n",
    "col_list = ['merchantId', 'merchantZip','mcc','posEntryMode'] # 'posEntryMode',\n",
    "X_train_1, X_val1_1, X_val2_1= [Conv_to_log(datasets[i]) for i in range(3)]"
   ]
  },
  {
   "cell_type": "markdown",
   "id": "ad398946",
   "metadata": {},
   "source": [
    "## Drop EventId column"
   ]
  },
  {
   "cell_type": "code",
   "execution_count": 31,
   "id": "dd4b2391",
   "metadata": {},
   "outputs": [],
   "source": [
    "X_train_1.drop(columns=['eventId'],inplace=True)#'transactionTime',\n",
    "X_val1_1.drop(columns=['eventId'],inplace=True)\n",
    "X_val2_1.drop(columns=['eventId'],inplace=True)"
   ]
  },
  {
   "cell_type": "markdown",
   "id": "185310cf",
   "metadata": {},
   "source": [
    "## Evaluation class\n",
    "I will use the class below to evaluate if the addition of a new feature improves fraud detection or not"
   ]
  },
  {
   "cell_type": "code",
   "execution_count": 32,
   "id": "cc1062a2",
   "metadata": {},
   "outputs": [],
   "source": [
    "class Evaluation(object):\n",
    "    \"\"\"\n",
    "    Features evaluation\n",
    "    We want to test the effect of adding or removing features on a fix classifier\n",
    "\n",
    "    Example: \n",
    "    ev = Evaluation()\n",
    "    ev.fit(X_traint, y_train) # fit a Random forest classifier with the training set \n",
    "    ev.evaluate(X_val2_1, y_val2) # test on validation set\n",
    "\n",
    "    ev.feature_importance # display features importance\n",
    "    \"\"\"\n",
    "    def __init__(self):\n",
    "        \"\"\"\n",
    "        Create a vanilla Random foreset classifier \n",
    "        \"\"\"\n",
    "        self.clf = RandomForestClassifier(random_state=2000, n_estimators=500, n_jobs=-1, bootstrap=False)\n",
    "\n",
    "    def fit(self,X_traint, y_traint):\n",
    "        \"\"\"\n",
    "        obj.fit(self,X_traint, y_traint) # Fit the classifier \n",
    "        \"\"\"\n",
    "        print('Running fit...')\n",
    "        self.clf.fit(X_traint, y_traint) \n",
    "        print('Running fit... DONE!')\n",
    "    \n",
    "    def evaluate(self, X, y, title):\n",
    "        \"\"\"\n",
    "        Estimate confusion matrix, f1 score and percentage of detected anomalies* in a new dataset. \n",
    "        \"\"\"\n",
    "        self.X = X\n",
    "        self.y = y\n",
    "        # Confusion Matrix\n",
    "        self.conf_matrix =confusion_matrix(y, self.clf.predict(X))\n",
    "        \n",
    "        # f1 score\n",
    "        self.f1_score = f1_score(y,self.clf.predict(X))\n",
    "        \n",
    "        # Percent detected in sub-pool\n",
    "        prob = self.clf.predict_proba(X)\n",
    "        self.percent_detected = self.Res(prob[:,1], y)\n",
    "        self.instance_num = sum(y)\n",
    "        self.title = title\n",
    "        self.display(title)\n",
    "        return self.f1_score\n",
    "\n",
    "    def display(self,title):\n",
    "        '''\n",
    "        Display Model performance\n",
    "        '''\n",
    "        \n",
    "        print('--- ' + title + ' ---')\n",
    "        print('confusion matrix')\n",
    "        print(self.conf_matrix)\n",
    "        print(f'f1 score = {self.f1_score}')\n",
    "        print(f'by checking 400 trans. per month we can find {round(self.percent_detected)}% of the frauds (tot {self.instance_num}) ')\n",
    "        print('')\n",
    "\n",
    "    def Res(self, fraud_prob, y_test):\n",
    "        '''\n",
    "        calculate percentage of frauds in the 400 more likely transactions\n",
    "        '''\n",
    "        # get the index of the 400 instances with higer probability  \n",
    "        ps = fraud_prob.argsort() \n",
    "        index_selected_trans = ps[-400:]\n",
    "        y_sel = y_test[index_selected_trans]\n",
    "        percent_frauds_detected = sum(y_sel)/sum(y_test)*100\n",
    "\n",
    "        self.proba = fraud_prob\n",
    "        self.index_selected_trans = index_selected_trans\n",
    "        return percent_frauds_detected\n",
    "\n",
    "    def Saved_Money(self):\n",
    "        ii = self.index_selected_trans \n",
    "        yy = self.y[ii]\n",
    "        xx = self.X['transactionAmount'].loc[ii]\n",
    "        self.transAmount_selection = sum(xx.loc[yy==1])\n",
    "        self.transAmount_total = sum(self.X['transactionAmount'].loc[self.y==1])\n",
    "        return self.transAmount_selection\n",
    "\n",
    "\n",
    "    def feature_importance(self):\n",
    "        '''\n",
    "        Display features importance\n",
    "        '''\n",
    "        feat_imp = pd.DataFrame()\n",
    "        feat_imp['feature'] = self.clf.feature_names_in_\n",
    "        feat_imp['importance'] = self.clf.feature_importances_\n",
    "        feat_imp = feat_imp.sort_values(by='importance', ascending=False).reset_index()\n",
    "        feat_imp.drop(columns='index')\n",
    "        self.feat_imp = feat_imp\n",
    "        print('')\n",
    "        print('-- Features Importance for classifier --')\n",
    "        print(feat_imp.loc[:5])\n",
    "    \n",
    "    \n",
    "    def Mutual_Info(self, X, y):\n",
    "        high_score_features = []\n",
    "        feature_scores = mutual_info_classif(X, y, random_state=0)\n",
    "        threshold = 5  # the number of most relevant features\n",
    "        for score, f_name in sorted(zip(feature_scores, X.columns), reverse=True)[:threshold]:\n",
    "                print(f_name, score)\n",
    "                high_score_features.append(f_name)"
   ]
  },
  {
   "cell_type": "markdown",
   "id": "36950304",
   "metadata": {},
   "source": [
    "## Test fraud detection performance on the current set of features"
   ]
  },
  {
   "cell_type": "code",
   "execution_count": 33,
   "id": "b536ee28",
   "metadata": {},
   "outputs": [
    {
     "name": "stdout",
     "output_type": "stream",
     "text": [
      "Running fit...\n",
      "Running fit... DONE!\n",
      "--- Training set ---\n",
      "confusion matrix\n",
      "[[78053     0]\n",
      " [    0   568]]\n",
      "f1 score = 1.0\n",
      "by checking 400 trans. per month we can find 70% of the frauds (tot 568.0) \n",
      "\n",
      "--- Validation set #1 ---\n",
      "confusion matrix\n",
      "[[9897    1]\n",
      " [  83   19]]\n",
      "f1 score = 0.3114754098360656\n",
      "by checking 400 trans. per month we can find 38% of the frauds (tot 102.0) \n",
      "\n",
      "--- Validation set #2 ---\n",
      "confusion matrix\n",
      "[[9889    2]\n",
      " [ 106    3]]\n",
      "f1 score = 0.05263157894736843\n",
      "by checking 400 trans. per month we can find 66% of the frauds (tot 109.0) \n",
      "\n"
     ]
    }
   ],
   "source": [
    "X_traint = X_train_1.copy() # training set\n",
    "X_val1t = X_val1_1.copy() # first validation set \n",
    "X_val2t = X_val2_1.copy() # second validation set \n",
    "\n",
    "ev_1 = Evaluation()\n",
    "ev_1.fit(X_traint, y_train)\n",
    "datasets = [X_traint, X_val1t, X_val2t]\n",
    "y_datasets = [y_train, y_val1, y_val2]\n",
    "title=['Training set', 'Validation set #1', 'Validation set #2']\n",
    "det_train, det_val1, det_val2 = [ev_1.evaluate(datasets[i],y_datasets[i], title[i]) for i in range(3)]"
   ]
  },
  {
   "cell_type": "markdown",
   "id": "13ca4ad7",
   "metadata": {},
   "source": [
    "## Comment:\n",
    "Using the current dataset with the vanilla classifier, we would detect 38% of frauds in the first validation set and 66% in the second (i.e. using the model to select 400 transactions out of 10.000). This is already not bad given the difficulty of the task.\n",
    "\n",
    "Let's check now the contribution of each feature to the performance of the model"
   ]
  },
  {
   "cell_type": "markdown",
   "id": "5a0b0fa1",
   "metadata": {},
   "source": [
    "## Features importance"
   ]
  },
  {
   "cell_type": "code",
   "execution_count": 34,
   "id": "649fe2a8",
   "metadata": {},
   "outputs": [
    {
     "name": "stdout",
     "output_type": "stream",
     "text": [
      "\n",
      "-- Features Importance for classifier --\n",
      "   index            feature  importance\n",
      "0      0      accountNumber    0.182936\n",
      "1      9                day    0.121434\n",
      "2      6  transactionAmount    0.108158\n",
      "3      1         merchantId    0.104942\n",
      "4      7      availableCash    0.091595\n",
      "5      8              month    0.089384\n"
     ]
    }
   ],
   "source": [
    "ev_1.feature_importance()"
   ]
  },
  {
   "cell_type": "markdown",
   "id": "b5944cff",
   "metadata": {},
   "source": [
    "### Comment:\n",
    "The account number and transaction amount are the most informative features for fraud detection according to this model.\n",
    "We can compare this ranking to the one obtained calculating the mutual information between each feature and the target:\n",
    "\n"
   ]
  },
  {
   "cell_type": "code",
   "execution_count": 35,
   "id": "8a1bbe98",
   "metadata": {},
   "outputs": [
    {
     "name": "stdout",
     "output_type": "stream",
     "text": [
      "accountNumber 0.02010636531724741\n",
      "merchantCountry 0.018729134215903942\n",
      "posEntryMode 0.010945460695408915\n",
      "merchantId 0.01015991485651857\n",
      "mcc 0.00824587891058648\n"
     ]
    }
   ],
   "source": [
    "# plot the 5 features with stronger MI with respect to the target\n",
    "ev_1.Mutual_Info(X_traint, y_train)"
   ]
  },
  {
   "cell_type": "markdown",
   "id": "3a88465d",
   "metadata": {},
   "source": [
    "### Comment\n",
    "MI is not very informative since it is pretty low for all features.\n",
    "The accountNumber is confirmed to be the most relevant feature and also the merchantId is in the top 5 of the two ranking methods."
   ]
  },
  {
   "cell_type": "markdown",
   "id": "d836f3fc",
   "metadata": {},
   "source": [
    "## Encode posEntryMode with dummies"
   ]
  },
  {
   "cell_type": "code",
   "execution_count": 36,
   "id": "e10d575e",
   "metadata": {},
   "outputs": [
    {
     "ename": "ValueError",
     "evalue": "The feature names should match those that were passed during fit.\nFeature names unseen at fit time:\n- merchantZip\nFeature names seen at fit time, yet now missing:\n- posEntryMode\n",
     "output_type": "error",
     "traceback": [
      "\u001b[1;31m---------------------------------------------------------------------------\u001b[0m",
      "\u001b[1;31mValueError\u001b[0m                                Traceback (most recent call last)",
      "Cell \u001b[1;32mIn[36], line 29\u001b[0m\n\u001b[0;32m     27\u001b[0m oo \u001b[38;5;241m=\u001b[39m one_hot()\n\u001b[0;32m     28\u001b[0m oo\u001b[38;5;241m.\u001b[39mfit(X_train_1,\u001b[38;5;124m'\u001b[39m\u001b[38;5;124mposEntryMode\u001b[39m\u001b[38;5;124m'\u001b[39m) \u001b[38;5;66;03m# 'posEntryMode'\u001b[39;00m\n\u001b[1;32m---> 29\u001b[0m X_train_2 \u001b[38;5;241m=\u001b[39m oo\u001b[38;5;241m.\u001b[39mtransform( X_train_1\u001b[38;5;241m.\u001b[39mcopy())\n\u001b[0;32m     30\u001b[0m X_val1_2 \u001b[38;5;241m=\u001b[39m oo\u001b[38;5;241m.\u001b[39mtransform(X_val1_1\u001b[38;5;241m.\u001b[39mcopy())\n\u001b[0;32m     31\u001b[0m X_val2_2 \u001b[38;5;241m=\u001b[39m oo\u001b[38;5;241m.\u001b[39mtransform(X_val2_1\u001b[38;5;241m.\u001b[39mcopy())\n",
      "Cell \u001b[1;32mIn[36], line 17\u001b[0m, in \u001b[0;36mone_hot.transform\u001b[1;34m(self, X_test)\u001b[0m\n\u001b[0;32m     15\u001b[0m \u001b[38;5;28;01mdef\u001b[39;00m \u001b[38;5;21mtransform\u001b[39m(\u001b[38;5;28mself\u001b[39m, X_test):\n\u001b[0;32m     16\u001b[0m     cat \u001b[38;5;241m=\u001b[39m X_test[[col]]\n\u001b[1;32m---> 17\u001b[0m     cat2 \u001b[38;5;241m=\u001b[39m \u001b[38;5;28mself\u001b[39m\u001b[38;5;241m.\u001b[39mohe\u001b[38;5;241m.\u001b[39mtransform(cat)\u001b[38;5;241m.\u001b[39mtoarray()\n\u001b[0;32m     19\u001b[0m     new_col_names \u001b[38;5;241m=\u001b[39m []\n\u001b[0;32m     20\u001b[0m     [new_col_names\u001b[38;5;241m.\u001b[39mappend(\u001b[38;5;28mself\u001b[39m\u001b[38;5;241m.\u001b[39mtarget_column \u001b[38;5;241m+\u001b[39m \u001b[38;5;124m'\u001b[39m\u001b[38;5;124m_\u001b[39m\u001b[38;5;124m'\u001b[39m \u001b[38;5;241m+\u001b[39m \u001b[38;5;28mstr\u001b[39m(c)) \u001b[38;5;28;01mfor\u001b[39;00m c \u001b[38;5;129;01min\u001b[39;00m \u001b[38;5;28mlist\u001b[39m(\u001b[38;5;28mself\u001b[39m\u001b[38;5;241m.\u001b[39mohe\u001b[38;5;241m.\u001b[39mcategories_[\u001b[38;5;241m0\u001b[39m])]\n",
      "File \u001b[1;32m~\\anaconda3\\Lib\\site-packages\\sklearn\\utils\\_set_output.py:140\u001b[0m, in \u001b[0;36m_wrap_method_output.<locals>.wrapped\u001b[1;34m(self, X, *args, **kwargs)\u001b[0m\n\u001b[0;32m    138\u001b[0m \u001b[38;5;129m@wraps\u001b[39m(f)\n\u001b[0;32m    139\u001b[0m \u001b[38;5;28;01mdef\u001b[39;00m \u001b[38;5;21mwrapped\u001b[39m(\u001b[38;5;28mself\u001b[39m, X, \u001b[38;5;241m*\u001b[39margs, \u001b[38;5;241m*\u001b[39m\u001b[38;5;241m*\u001b[39mkwargs):\n\u001b[1;32m--> 140\u001b[0m     data_to_wrap \u001b[38;5;241m=\u001b[39m f(\u001b[38;5;28mself\u001b[39m, X, \u001b[38;5;241m*\u001b[39margs, \u001b[38;5;241m*\u001b[39m\u001b[38;5;241m*\u001b[39mkwargs)\n\u001b[0;32m    141\u001b[0m     \u001b[38;5;28;01mif\u001b[39;00m \u001b[38;5;28misinstance\u001b[39m(data_to_wrap, \u001b[38;5;28mtuple\u001b[39m):\n\u001b[0;32m    142\u001b[0m         \u001b[38;5;66;03m# only wrap the first output for cross decomposition\u001b[39;00m\n\u001b[0;32m    143\u001b[0m         return_tuple \u001b[38;5;241m=\u001b[39m (\n\u001b[0;32m    144\u001b[0m             _wrap_data_with_container(method, data_to_wrap[\u001b[38;5;241m0\u001b[39m], X, \u001b[38;5;28mself\u001b[39m),\n\u001b[0;32m    145\u001b[0m             \u001b[38;5;241m*\u001b[39mdata_to_wrap[\u001b[38;5;241m1\u001b[39m:],\n\u001b[0;32m    146\u001b[0m         )\n",
      "File \u001b[1;32m~\\anaconda3\\Lib\\site-packages\\sklearn\\preprocessing\\_encoders.py:1016\u001b[0m, in \u001b[0;36mOneHotEncoder.transform\u001b[1;34m(self, X)\u001b[0m\n\u001b[0;32m   1011\u001b[0m \u001b[38;5;66;03m# validation of X happens in _check_X called by _transform\u001b[39;00m\n\u001b[0;32m   1012\u001b[0m warn_on_unknown \u001b[38;5;241m=\u001b[39m \u001b[38;5;28mself\u001b[39m\u001b[38;5;241m.\u001b[39mdrop \u001b[38;5;129;01mis\u001b[39;00m \u001b[38;5;129;01mnot\u001b[39;00m \u001b[38;5;28;01mNone\u001b[39;00m \u001b[38;5;129;01mand\u001b[39;00m \u001b[38;5;28mself\u001b[39m\u001b[38;5;241m.\u001b[39mhandle_unknown \u001b[38;5;129;01min\u001b[39;00m {\n\u001b[0;32m   1013\u001b[0m     \u001b[38;5;124m\"\u001b[39m\u001b[38;5;124mignore\u001b[39m\u001b[38;5;124m\"\u001b[39m,\n\u001b[0;32m   1014\u001b[0m     \u001b[38;5;124m\"\u001b[39m\u001b[38;5;124minfrequent_if_exist\u001b[39m\u001b[38;5;124m\"\u001b[39m,\n\u001b[0;32m   1015\u001b[0m }\n\u001b[1;32m-> 1016\u001b[0m X_int, X_mask \u001b[38;5;241m=\u001b[39m \u001b[38;5;28mself\u001b[39m\u001b[38;5;241m.\u001b[39m_transform(\n\u001b[0;32m   1017\u001b[0m     X,\n\u001b[0;32m   1018\u001b[0m     handle_unknown\u001b[38;5;241m=\u001b[39m\u001b[38;5;28mself\u001b[39m\u001b[38;5;241m.\u001b[39mhandle_unknown,\n\u001b[0;32m   1019\u001b[0m     force_all_finite\u001b[38;5;241m=\u001b[39m\u001b[38;5;124m\"\u001b[39m\u001b[38;5;124mallow-nan\u001b[39m\u001b[38;5;124m\"\u001b[39m,\n\u001b[0;32m   1020\u001b[0m     warn_on_unknown\u001b[38;5;241m=\u001b[39mwarn_on_unknown,\n\u001b[0;32m   1021\u001b[0m )\n\u001b[0;32m   1023\u001b[0m n_samples, n_features \u001b[38;5;241m=\u001b[39m X_int\u001b[38;5;241m.\u001b[39mshape\n\u001b[0;32m   1025\u001b[0m \u001b[38;5;28;01mif\u001b[39;00m \u001b[38;5;28mself\u001b[39m\u001b[38;5;241m.\u001b[39m_drop_idx_after_grouping \u001b[38;5;129;01mis\u001b[39;00m \u001b[38;5;129;01mnot\u001b[39;00m \u001b[38;5;28;01mNone\u001b[39;00m:\n",
      "File \u001b[1;32m~\\anaconda3\\Lib\\site-packages\\sklearn\\preprocessing\\_encoders.py:179\u001b[0m, in \u001b[0;36m_BaseEncoder._transform\u001b[1;34m(self, X, handle_unknown, force_all_finite, warn_on_unknown, ignore_category_indices)\u001b[0m\n\u001b[0;32m    171\u001b[0m \u001b[38;5;28;01mdef\u001b[39;00m \u001b[38;5;21m_transform\u001b[39m(\n\u001b[0;32m    172\u001b[0m     \u001b[38;5;28mself\u001b[39m,\n\u001b[0;32m    173\u001b[0m     X,\n\u001b[1;32m   (...)\u001b[0m\n\u001b[0;32m    177\u001b[0m     ignore_category_indices\u001b[38;5;241m=\u001b[39m\u001b[38;5;28;01mNone\u001b[39;00m,\n\u001b[0;32m    178\u001b[0m ):\n\u001b[1;32m--> 179\u001b[0m     \u001b[38;5;28mself\u001b[39m\u001b[38;5;241m.\u001b[39m_check_feature_names(X, reset\u001b[38;5;241m=\u001b[39m\u001b[38;5;28;01mFalse\u001b[39;00m)\n\u001b[0;32m    180\u001b[0m     \u001b[38;5;28mself\u001b[39m\u001b[38;5;241m.\u001b[39m_check_n_features(X, reset\u001b[38;5;241m=\u001b[39m\u001b[38;5;28;01mFalse\u001b[39;00m)\n\u001b[0;32m    181\u001b[0m     X_list, n_samples, n_features \u001b[38;5;241m=\u001b[39m \u001b[38;5;28mself\u001b[39m\u001b[38;5;241m.\u001b[39m_check_X(\n\u001b[0;32m    182\u001b[0m         X, force_all_finite\u001b[38;5;241m=\u001b[39mforce_all_finite\n\u001b[0;32m    183\u001b[0m     )\n",
      "File \u001b[1;32m~\\anaconda3\\Lib\\site-packages\\sklearn\\base.py:506\u001b[0m, in \u001b[0;36mBaseEstimator._check_feature_names\u001b[1;34m(self, X, reset)\u001b[0m\n\u001b[0;32m    501\u001b[0m \u001b[38;5;28;01mif\u001b[39;00m \u001b[38;5;129;01mnot\u001b[39;00m missing_names \u001b[38;5;129;01mand\u001b[39;00m \u001b[38;5;129;01mnot\u001b[39;00m unexpected_names:\n\u001b[0;32m    502\u001b[0m     message \u001b[38;5;241m+\u001b[39m\u001b[38;5;241m=\u001b[39m (\n\u001b[0;32m    503\u001b[0m         \u001b[38;5;124m\"\u001b[39m\u001b[38;5;124mFeature names must be in the same order as they were in fit.\u001b[39m\u001b[38;5;130;01m\\n\u001b[39;00m\u001b[38;5;124m\"\u001b[39m\n\u001b[0;32m    504\u001b[0m     )\n\u001b[1;32m--> 506\u001b[0m \u001b[38;5;28;01mraise\u001b[39;00m \u001b[38;5;167;01mValueError\u001b[39;00m(message)\n",
      "\u001b[1;31mValueError\u001b[0m: The feature names should match those that were passed during fit.\nFeature names unseen at fit time:\n- merchantZip\nFeature names seen at fit time, yet now missing:\n- posEntryMode\n"
     ]
    }
   ],
   "source": [
    "from sklearn.preprocessing import OneHotEncoder\n",
    "\n",
    "class one_hot(object):\n",
    "    \"\"\"\n",
    "    Ignore new labels in validation set\n",
    "    \"\"\"\n",
    "    def __init__(self):\n",
    "        self.ohe = OneHotEncoder(handle_unknown='ignore')\n",
    "\n",
    "    def fit(self, X_train, col):\n",
    "        self.target_column = col\n",
    "        cat = X_train[[col]]\n",
    "        self.ohe.fit(cat)\n",
    "    \n",
    "    def transform(self, X_test):\n",
    "        cat = X_test[[col]]\n",
    "        cat2 = self.ohe.transform(cat).toarray()\n",
    "\n",
    "        new_col_names = []\n",
    "        [new_col_names.append(self.target_column + '_' + str(c)) for c in list(self.ohe.categories_[0])]\n",
    "        \n",
    "        \n",
    "        X_test = pd.concat([X_test, pd.DataFrame(cat2, columns=new_col_names)], axis='columns') # , columns= new_col_names\n",
    "        return X_test\n",
    "\n",
    "\n",
    "oo = one_hot()\n",
    "oo.fit(X_train_1,'posEntryMode') # 'posEntryMode'\n",
    "X_train_2 = oo.transform( X_train_1.copy())\n",
    "X_val1_2 = oo.transform(X_val1_1.copy())\n",
    "X_val2_2 = oo.transform(X_val2_1.copy())"
   ]
  },
  {
   "cell_type": "code",
   "execution_count": null,
   "id": "cb83aaef",
   "metadata": {},
   "outputs": [],
   "source": [
    "##############\n",
    "# EVALUATION\n",
    "##############\n",
    "\n",
    "X_traint = X_train_2.copy()\n",
    "X_val1t = X_val1_2.copy()\n",
    "X_val2t = X_val2_2.copy()\n",
    "\n",
    "ev_2 = Evaluation()\n",
    "ev_2.fit(X_traint, y_train)\n",
    "datasets = [X_traint, X_val1t, X_val2t]\n",
    "y_datasets = [y_train, y_val1, y_val2]\n",
    "title=['Training set', 'Validation set #1', 'Validation set #2']\n",
    "det_train, det_val1, det_val2 = [ev_2.evaluate(datasets[i], y_datasets[i], title[i]) for i in range(3)]\n",
    "ev_2.feature_importance()"
   ]
  },
  {
   "cell_type": "markdown",
   "id": "8ffddbb7",
   "metadata": {},
   "source": [
    "### Comment:\n",
    "This operation adds several new columns w/o adding much information, therefore we are not including it in our pipeline"
   ]
  },
  {
   "cell_type": "markdown",
   "id": "9a11db7a",
   "metadata": {},
   "source": [
    "## Add fraud probability for each category\n",
    "For every categorical feature, I am going to estimate the probability that each value is associated to a fraud (from the training set). Then, I am going to create a new column for each category, reporting this probability for each instance.\n",
    "\n",
    "e.g. If the 10% of instances with accountNumber=1 in the trainig set are frauds, I am going to add a new column \"accountNumber_fraud_prob\" reporting the probability of 0.1 every time the accountNumber is equal to 1"
   ]
  },
  {
   "cell_type": "code",
   "execution_count": 37,
   "id": "be29e918",
   "metadata": {},
   "outputs": [],
   "source": [
    "class Add_fraud_probability(object):\n",
    "    def __init__(self,col_list):\n",
    "        \"\"\"\n",
    "        fp = Add_fraud_probability(col_list)\n",
    "        \"col_list\" is a list with the names of the columns/features where we want to perform the operation\n",
    "        \"\"\"\n",
    "        self.col_list = col_list\n",
    "        \n",
    "\n",
    "    def fit(self, X_train, y_train):\n",
    "        \"\"\"\n",
    "        \"\"\"\n",
    "        self.fp = dict()\n",
    "        for col in self.col_list:\n",
    "            # get the number of frauds for category in the training set that present some\n",
    "            frauds_per_cat = X_train[col].loc[np.where(y_train==1)].value_counts().to_dict() \n",
    "\n",
    "            fraud_prob_per_cat = dict()\n",
    "            # get probability \n",
    "            for k, v in frauds_per_cat.items():\n",
    "                n_tot = sum(X_train[col]==k)\n",
    "                fraud_prob_per_cat.update({k: v/n_tot})\n",
    "            self.fp.update({col:fraud_prob_per_cat})\n",
    "        return self\n",
    "\n",
    "    def transform(self, dataset):\n",
    "        \"\"\"\n",
    "        \"\"\"\n",
    "        ds = dataset.copy()\n",
    "        for col in self.col_list:\n",
    "            fraud_prob_per_cat = self.fp[col]\n",
    "        \n",
    "            ds[col + '_fraud_prob'] = 0 # init the new column/feature \n",
    "            # estimate the probability for each category and add as a new feature\n",
    "            for k,v in fraud_prob_per_cat.items():\n",
    "                ds[col + '_fraud_prob'].loc[ds[col]==k] = v\n",
    "        return ds"
   ]
  },
  {
   "cell_type": "code",
   "execution_count": 38,
   "id": "f121b607",
   "metadata": {},
   "outputs": [
    {
     "name": "stderr",
     "output_type": "stream",
     "text": [
      "C:\\Users\\HP\\AppData\\Local\\Temp\\ipykernel_1132\\2732589123.py:36: SettingWithCopyWarning: \n",
      "A value is trying to be set on a copy of a slice from a DataFrame\n",
      "\n",
      "See the caveats in the documentation: https://pandas.pydata.org/pandas-docs/stable/user_guide/indexing.html#returning-a-view-versus-a-copy\n",
      "  ds[col + '_fraud_prob'].loc[ds[col]==k] = v\n",
      "C:\\Users\\HP\\AppData\\Local\\Temp\\ipykernel_1132\\2732589123.py:36: SettingWithCopyWarning: \n",
      "A value is trying to be set on a copy of a slice from a DataFrame\n",
      "\n",
      "See the caveats in the documentation: https://pandas.pydata.org/pandas-docs/stable/user_guide/indexing.html#returning-a-view-versus-a-copy\n",
      "  ds[col + '_fraud_prob'].loc[ds[col]==k] = v\n",
      "C:\\Users\\HP\\AppData\\Local\\Temp\\ipykernel_1132\\2732589123.py:36: SettingWithCopyWarning: \n",
      "A value is trying to be set on a copy of a slice from a DataFrame\n",
      "\n",
      "See the caveats in the documentation: https://pandas.pydata.org/pandas-docs/stable/user_guide/indexing.html#returning-a-view-versus-a-copy\n",
      "  ds[col + '_fraud_prob'].loc[ds[col]==k] = v\n",
      "C:\\Users\\HP\\AppData\\Local\\Temp\\ipykernel_1132\\2732589123.py:36: SettingWithCopyWarning: \n",
      "A value is trying to be set on a copy of a slice from a DataFrame\n",
      "\n",
      "See the caveats in the documentation: https://pandas.pydata.org/pandas-docs/stable/user_guide/indexing.html#returning-a-view-versus-a-copy\n",
      "  ds[col + '_fraud_prob'].loc[ds[col]==k] = v\n",
      "C:\\Users\\HP\\AppData\\Local\\Temp\\ipykernel_1132\\2732589123.py:36: SettingWithCopyWarning: \n",
      "A value is trying to be set on a copy of a slice from a DataFrame\n",
      "\n",
      "See the caveats in the documentation: https://pandas.pydata.org/pandas-docs/stable/user_guide/indexing.html#returning-a-view-versus-a-copy\n",
      "  ds[col + '_fraud_prob'].loc[ds[col]==k] = v\n",
      "C:\\Users\\HP\\AppData\\Local\\Temp\\ipykernel_1132\\2732589123.py:36: SettingWithCopyWarning: \n",
      "A value is trying to be set on a copy of a slice from a DataFrame\n",
      "\n",
      "See the caveats in the documentation: https://pandas.pydata.org/pandas-docs/stable/user_guide/indexing.html#returning-a-view-versus-a-copy\n",
      "  ds[col + '_fraud_prob'].loc[ds[col]==k] = v\n",
      "C:\\Users\\HP\\AppData\\Local\\Temp\\ipykernel_1132\\2732589123.py:36: SettingWithCopyWarning: \n",
      "A value is trying to be set on a copy of a slice from a DataFrame\n",
      "\n",
      "See the caveats in the documentation: https://pandas.pydata.org/pandas-docs/stable/user_guide/indexing.html#returning-a-view-versus-a-copy\n",
      "  ds[col + '_fraud_prob'].loc[ds[col]==k] = v\n",
      "C:\\Users\\HP\\AppData\\Local\\Temp\\ipykernel_1132\\2732589123.py:36: SettingWithCopyWarning: \n",
      "A value is trying to be set on a copy of a slice from a DataFrame\n",
      "\n",
      "See the caveats in the documentation: https://pandas.pydata.org/pandas-docs/stable/user_guide/indexing.html#returning-a-view-versus-a-copy\n",
      "  ds[col + '_fraud_prob'].loc[ds[col]==k] = v\n",
      "C:\\Users\\HP\\AppData\\Local\\Temp\\ipykernel_1132\\2732589123.py:36: SettingWithCopyWarning: \n",
      "A value is trying to be set on a copy of a slice from a DataFrame\n",
      "\n",
      "See the caveats in the documentation: https://pandas.pydata.org/pandas-docs/stable/user_guide/indexing.html#returning-a-view-versus-a-copy\n",
      "  ds[col + '_fraud_prob'].loc[ds[col]==k] = v\n"
     ]
    }
   ],
   "source": [
    "datasets = [X_train_1, X_val1_1, X_val2_1]\n",
    "col_list = ['merchantId', 'merchantZip','mcc'] # 'posEntryMode',\n",
    "\n",
    "afp = Add_fraud_probability(col_list)\n",
    "afp.fit(X_train_1, y_train)\n",
    "\n",
    "X_train_2, X_val1_2, X_val2_2 = [afp.transform(datasets[i]) for i in range(3)]"
   ]
  },
  {
   "cell_type": "code",
   "execution_count": 39,
   "id": "dea686de",
   "metadata": {},
   "outputs": [
    {
     "data": {
      "text/html": [
       "<div>\n",
       "<style scoped>\n",
       "    .dataframe tbody tr th:only-of-type {\n",
       "        vertical-align: middle;\n",
       "    }\n",
       "\n",
       "    .dataframe tbody tr th {\n",
       "        vertical-align: top;\n",
       "    }\n",
       "\n",
       "    .dataframe thead th {\n",
       "        text-align: right;\n",
       "    }\n",
       "</style>\n",
       "<table border=\"1\" class=\"dataframe\">\n",
       "  <thead>\n",
       "    <tr style=\"text-align: right;\">\n",
       "      <th></th>\n",
       "      <th>accountNumber</th>\n",
       "      <th>merchantId</th>\n",
       "      <th>mcc</th>\n",
       "      <th>merchantCountry</th>\n",
       "      <th>merchantZip</th>\n",
       "      <th>posEntryMode</th>\n",
       "      <th>transactionAmount</th>\n",
       "      <th>availableCash</th>\n",
       "      <th>month</th>\n",
       "      <th>day</th>\n",
       "      <th>hour</th>\n",
       "      <th>merchantId_fraud_prob</th>\n",
       "      <th>merchantZip_fraud_prob</th>\n",
       "      <th>mcc_fraud_prob</th>\n",
       "    </tr>\n",
       "  </thead>\n",
       "  <tbody>\n",
       "    <tr>\n",
       "      <th>0</th>\n",
       "      <td>403</td>\n",
       "      <td>17653</td>\n",
       "      <td>5812</td>\n",
       "      <td>826</td>\n",
       "      <td>2541</td>\n",
       "      <td>5</td>\n",
       "      <td>2.174752</td>\n",
       "      <td>8500</td>\n",
       "      <td>9</td>\n",
       "      <td>13</td>\n",
       "      <td>18</td>\n",
       "      <td>0.0</td>\n",
       "      <td>0.0</td>\n",
       "      <td>0.000477</td>\n",
       "    </tr>\n",
       "    <tr>\n",
       "      <th>1</th>\n",
       "      <td>403</td>\n",
       "      <td>17653</td>\n",
       "      <td>5812</td>\n",
       "      <td>826</td>\n",
       "      <td>2541</td>\n",
       "      <td>5</td>\n",
       "      <td>2.174752</td>\n",
       "      <td>7500</td>\n",
       "      <td>9</td>\n",
       "      <td>13</td>\n",
       "      <td>18</td>\n",
       "      <td>0.0</td>\n",
       "      <td>0.0</td>\n",
       "      <td>0.000477</td>\n",
       "    </tr>\n",
       "    <tr>\n",
       "      <th>2</th>\n",
       "      <td>598</td>\n",
       "      <td>4084</td>\n",
       "      <td>5968</td>\n",
       "      <td>826</td>\n",
       "      <td>2621</td>\n",
       "      <td>1</td>\n",
       "      <td>1.955860</td>\n",
       "      <td>3500</td>\n",
       "      <td>9</td>\n",
       "      <td>13</td>\n",
       "      <td>18</td>\n",
       "      <td>0.0</td>\n",
       "      <td>0.0</td>\n",
       "      <td>0.005525</td>\n",
       "    </tr>\n",
       "    <tr>\n",
       "      <th>3</th>\n",
       "      <td>121</td>\n",
       "      <td>7708</td>\n",
       "      <td>5541</td>\n",
       "      <td>826</td>\n",
       "      <td>2388</td>\n",
       "      <td>5</td>\n",
       "      <td>3.091042</td>\n",
       "      <td>7500</td>\n",
       "      <td>9</td>\n",
       "      <td>13</td>\n",
       "      <td>18</td>\n",
       "      <td>0.0</td>\n",
       "      <td>0.0</td>\n",
       "      <td>0.000390</td>\n",
       "    </tr>\n",
       "    <tr>\n",
       "      <th>4</th>\n",
       "      <td>403</td>\n",
       "      <td>18881</td>\n",
       "      <td>5994</td>\n",
       "      <td>826</td>\n",
       "      <td>2541</td>\n",
       "      <td>5</td>\n",
       "      <td>1.791759</td>\n",
       "      <td>7500</td>\n",
       "      <td>9</td>\n",
       "      <td>13</td>\n",
       "      <td>19</td>\n",
       "      <td>0.0</td>\n",
       "      <td>0.0</td>\n",
       "      <td>0.000000</td>\n",
       "    </tr>\n",
       "  </tbody>\n",
       "</table>\n",
       "</div>"
      ],
      "text/plain": [
       "   accountNumber  merchantId   mcc  merchantCountry  merchantZip  \\\n",
       "0            403       17653  5812              826         2541   \n",
       "1            403       17653  5812              826         2541   \n",
       "2            598        4084  5968              826         2621   \n",
       "3            121        7708  5541              826         2388   \n",
       "4            403       18881  5994              826         2541   \n",
       "\n",
       "   posEntryMode  transactionAmount  availableCash  month  day  hour  \\\n",
       "0             5           2.174752           8500      9   13    18   \n",
       "1             5           2.174752           7500      9   13    18   \n",
       "2             1           1.955860           3500      9   13    18   \n",
       "3             5           3.091042           7500      9   13    18   \n",
       "4             5           1.791759           7500      9   13    19   \n",
       "\n",
       "   merchantId_fraud_prob  merchantZip_fraud_prob  mcc_fraud_prob  \n",
       "0                    0.0                     0.0        0.000477  \n",
       "1                    0.0                     0.0        0.000477  \n",
       "2                    0.0                     0.0        0.005525  \n",
       "3                    0.0                     0.0        0.000390  \n",
       "4                    0.0                     0.0        0.000000  "
      ]
     },
     "execution_count": 39,
     "metadata": {},
     "output_type": "execute_result"
    }
   ],
   "source": [
    "X_val1_2.head()"
   ]
  },
  {
   "cell_type": "markdown",
   "id": "ff0ff069",
   "metadata": {},
   "source": [
    "### Commnet: \n",
    "you can see that new columns have been added to the dataset\n",
    "\n",
    "Let's check if these new features improve the performance of the model on the validation sets"
   ]
  },
  {
   "cell_type": "code",
   "execution_count": 40,
   "id": "d1ec7d48",
   "metadata": {},
   "outputs": [
    {
     "name": "stdout",
     "output_type": "stream",
     "text": [
      "Running fit...\n",
      "Running fit... DONE!\n",
      "--- Training set ---\n",
      "confusion matrix\n",
      "[[78053     0]\n",
      " [    0   568]]\n",
      "f1 score = 1.0\n",
      "by checking 400 trans. per month we can find 70% of the frauds (tot 568.0) \n",
      "\n",
      "--- Validation set #1 ---\n",
      "confusion matrix\n",
      "[[9892    6]\n",
      " [  83   19]]\n",
      "f1 score = 0.2992125984251969\n",
      "by checking 400 trans. per month we can find 31% of the frauds (tot 102.0) \n",
      "\n",
      "--- Validation set #2 ---\n",
      "confusion matrix\n",
      "[[9878   13]\n",
      " [ 103    6]]\n",
      "f1 score = 0.09375\n",
      "by checking 400 trans. per month we can find 23% of the frauds (tot 109.0) \n",
      "\n",
      "\n",
      "-- Features Importance for classifier --\n",
      "   index                feature  importance\n",
      "0     11  merchantId_fraud_prob    0.475974\n",
      "1      0          accountNumber    0.086084\n",
      "2      9                    day    0.067259\n",
      "3      6      transactionAmount    0.064901\n",
      "4     10                   hour    0.052248\n",
      "5      7          availableCash    0.052039\n"
     ]
    }
   ],
   "source": [
    "##############\n",
    "# EVALUATION\n",
    "##############\n",
    "\n",
    "X_traint = X_train_2.copy()\n",
    "X_val1t = X_val1_2.copy()\n",
    "X_val2t = X_val2_2.copy()\n",
    "\n",
    "ev_3 = Evaluation()\n",
    "ev_3.fit(X_traint, y_train)\n",
    "datasets = [X_traint, X_val1t, X_val2t]\n",
    "y_datasets = [y_train, y_val1, y_val2]\n",
    "title=['Training set', 'Validation set #1', 'Validation set #2']\n",
    "det_train, det_val1, det_val2 = [ev_3.evaluate(datasets[i], y_datasets[i], title[i]) for i in range(3)]\n",
    "ev_3.feature_importance()"
   ]
  },
  {
   "cell_type": "markdown",
   "id": "a587c613",
   "metadata": {},
   "source": [
    "### Comment:\n",
    "These new features do not improve the performance of the model therefore we are going to drop them."
   ]
  },
  {
   "cell_type": "markdown",
   "id": "dc769619",
   "metadata": {},
   "source": [
    "## Add category probability for each account\n",
    "For every categorical feature, we estimate the probability that each value is associated with a certain account (e.g. account =1 buys from merchant=1). Then, we create a new column for each categoriacal feature, reporting this probability for each instance (every time we have account =1 & merchant=1 we add the etimated probability)."
   ]
  },
  {
   "cell_type": "code",
   "execution_count": 41,
   "id": "28697eee",
   "metadata": {},
   "outputs": [
    {
     "name": "stderr",
     "output_type": "stream",
     "text": [
      "C:\\Users\\HP\\AppData\\Local\\Temp\\ipykernel_1132\\2087392345.py:52: SettingWithCopyWarning: \n",
      "A value is trying to be set on a copy of a slice from a DataFrame\n",
      "\n",
      "See the caveats in the documentation: https://pandas.pydata.org/pandas-docs/stable/user_guide/indexing.html#returning-a-view-versus-a-copy\n",
      "  ds[col + '_prob'].loc[ (ds[col]==cat) & (ds['accountNumber']==iAcc)] = prob[i]\n",
      "C:\\Users\\HP\\AppData\\Local\\Temp\\ipykernel_1132\\2087392345.py:52: SettingWithCopyWarning: \n",
      "A value is trying to be set on a copy of a slice from a DataFrame\n",
      "\n",
      "See the caveats in the documentation: https://pandas.pydata.org/pandas-docs/stable/user_guide/indexing.html#returning-a-view-versus-a-copy\n",
      "  ds[col + '_prob'].loc[ (ds[col]==cat) & (ds['accountNumber']==iAcc)] = prob[i]\n",
      "C:\\Users\\HP\\AppData\\Local\\Temp\\ipykernel_1132\\2087392345.py:52: SettingWithCopyWarning: \n",
      "A value is trying to be set on a copy of a slice from a DataFrame\n",
      "\n",
      "See the caveats in the documentation: https://pandas.pydata.org/pandas-docs/stable/user_guide/indexing.html#returning-a-view-versus-a-copy\n",
      "  ds[col + '_prob'].loc[ (ds[col]==cat) & (ds['accountNumber']==iAcc)] = prob[i]\n",
      "C:\\Users\\HP\\AppData\\Local\\Temp\\ipykernel_1132\\2087392345.py:52: SettingWithCopyWarning: \n",
      "A value is trying to be set on a copy of a slice from a DataFrame\n",
      "\n",
      "See the caveats in the documentation: https://pandas.pydata.org/pandas-docs/stable/user_guide/indexing.html#returning-a-view-versus-a-copy\n",
      "  ds[col + '_prob'].loc[ (ds[col]==cat) & (ds['accountNumber']==iAcc)] = prob[i]\n",
      "C:\\Users\\HP\\AppData\\Local\\Temp\\ipykernel_1132\\2087392345.py:52: SettingWithCopyWarning: \n",
      "A value is trying to be set on a copy of a slice from a DataFrame\n",
      "\n",
      "See the caveats in the documentation: https://pandas.pydata.org/pandas-docs/stable/user_guide/indexing.html#returning-a-view-versus-a-copy\n",
      "  ds[col + '_prob'].loc[ (ds[col]==cat) & (ds['accountNumber']==iAcc)] = prob[i]\n",
      "C:\\Users\\HP\\AppData\\Local\\Temp\\ipykernel_1132\\2087392345.py:52: SettingWithCopyWarning: \n",
      "A value is trying to be set on a copy of a slice from a DataFrame\n",
      "\n",
      "See the caveats in the documentation: https://pandas.pydata.org/pandas-docs/stable/user_guide/indexing.html#returning-a-view-versus-a-copy\n",
      "  ds[col + '_prob'].loc[ (ds[col]==cat) & (ds['accountNumber']==iAcc)] = prob[i]\n",
      "C:\\Users\\HP\\AppData\\Local\\Temp\\ipykernel_1132\\2087392345.py:52: SettingWithCopyWarning: \n",
      "A value is trying to be set on a copy of a slice from a DataFrame\n",
      "\n",
      "See the caveats in the documentation: https://pandas.pydata.org/pandas-docs/stable/user_guide/indexing.html#returning-a-view-versus-a-copy\n",
      "  ds[col + '_prob'].loc[ (ds[col]==cat) & (ds['accountNumber']==iAcc)] = prob[i]\n",
      "C:\\Users\\HP\\AppData\\Local\\Temp\\ipykernel_1132\\2087392345.py:52: SettingWithCopyWarning: \n",
      "A value is trying to be set on a copy of a slice from a DataFrame\n",
      "\n",
      "See the caveats in the documentation: https://pandas.pydata.org/pandas-docs/stable/user_guide/indexing.html#returning-a-view-versus-a-copy\n",
      "  ds[col + '_prob'].loc[ (ds[col]==cat) & (ds['accountNumber']==iAcc)] = prob[i]\n",
      "C:\\Users\\HP\\AppData\\Local\\Temp\\ipykernel_1132\\2087392345.py:52: SettingWithCopyWarning: \n",
      "A value is trying to be set on a copy of a slice from a DataFrame\n",
      "\n",
      "See the caveats in the documentation: https://pandas.pydata.org/pandas-docs/stable/user_guide/indexing.html#returning-a-view-versus-a-copy\n",
      "  ds[col + '_prob'].loc[ (ds[col]==cat) & (ds['accountNumber']==iAcc)] = prob[i]\n",
      "C:\\Users\\HP\\AppData\\Local\\Temp\\ipykernel_1132\\2087392345.py:52: SettingWithCopyWarning: \n",
      "A value is trying to be set on a copy of a slice from a DataFrame\n",
      "\n",
      "See the caveats in the documentation: https://pandas.pydata.org/pandas-docs/stable/user_guide/indexing.html#returning-a-view-versus-a-copy\n",
      "  ds[col + '_prob'].loc[ (ds[col]==cat) & (ds['accountNumber']==iAcc)] = prob[i]\n",
      "C:\\Users\\HP\\AppData\\Local\\Temp\\ipykernel_1132\\2087392345.py:52: SettingWithCopyWarning: \n",
      "A value is trying to be set on a copy of a slice from a DataFrame\n",
      "\n",
      "See the caveats in the documentation: https://pandas.pydata.org/pandas-docs/stable/user_guide/indexing.html#returning-a-view-versus-a-copy\n",
      "  ds[col + '_prob'].loc[ (ds[col]==cat) & (ds['accountNumber']==iAcc)] = prob[i]\n",
      "C:\\Users\\HP\\AppData\\Local\\Temp\\ipykernel_1132\\2087392345.py:52: SettingWithCopyWarning: \n",
      "A value is trying to be set on a copy of a slice from a DataFrame\n",
      "\n",
      "See the caveats in the documentation: https://pandas.pydata.org/pandas-docs/stable/user_guide/indexing.html#returning-a-view-versus-a-copy\n",
      "  ds[col + '_prob'].loc[ (ds[col]==cat) & (ds['accountNumber']==iAcc)] = prob[i]\n"
     ]
    }
   ],
   "source": [
    "import pickle\n",
    "import os\n",
    "\n",
    "class  Add_cat_prob_per_account(object):\n",
    "    def __init__(self):\n",
    "        if not os.path.isdir('./temp'):\n",
    "            os.makedirs('./temp')\n",
    "\n",
    "    def fit(self, X_train, col_list):\n",
    "        self.col_list = col_list\n",
    "        for col in col_list:\n",
    "            # for every account find the prob of each categorical value\n",
    "            for iAcc in X_train['accountNumber'].unique():\n",
    "                \n",
    "                if sum(X_train['accountNumber']==iAcc) == 0:\n",
    "                    # if there are not transactions for this account stop here\n",
    "                    continue\n",
    "                # prob calculation made only on the training set\n",
    "                tot_transactions_account = len(X_train[col].loc[X_train['accountNumber']==iAcc])\n",
    "                caunt_per_cat = X_train[col].loc[X_train['accountNumber']==iAcc].value_counts()\n",
    "                cat_prob = caunt_per_cat / tot_transactions_account\n",
    "\n",
    "                cat_prob_per_account = {iAcc: cat_prob.to_dict()}\n",
    "\n",
    "                fname = str(f'./temp/{col}_{iAcc}.pkl')\n",
    "                with open(fname, 'wb') as f:\n",
    "                    pickle.dump(cat_prob_per_account, f)\n",
    "               \n",
    "            \n",
    "      \n",
    "    def transform(self, ds1):\n",
    "        ds = ds1.copy()\n",
    "        for col in self.col_list:\n",
    "            ds[col + '_prob'] = 0 # init the new column/feature \n",
    "            # for every account find the prob of each categorical value\n",
    "            for iAcc in ds['accountNumber'].unique():\n",
    "                fname = str(f'./temp/{col}_{iAcc}.pkl')\n",
    "\n",
    "                if not os.path.isfile(fname):\n",
    "                    continue\n",
    "                \n",
    "                with open(fname, 'rb') as f:\n",
    "                    cat_prob_per_account = pickle.load(f)\n",
    "       \n",
    "               \n",
    "                # estimate the probability for each category and add as a new feature\n",
    "                cat_prob = cat_prob_per_account[iAcc]#cat_prob_[col]\n",
    "                keys= list(cat_prob.keys())\n",
    "                prob= list(cat_prob.values())\n",
    "                for i in range(len(keys)): # values categorical var\n",
    "                    cat = keys[i]\n",
    "                    ds[col + '_prob'].loc[ (ds[col]==cat) & (ds['accountNumber']==iAcc)] = prob[i]\n",
    "        return ds\n",
    "\n",
    "col_list = ['merchantId','merchantZip','mcc','posEntryMode'] \n",
    "ap = Add_cat_prob_per_account()\n",
    "ap.fit(X_train_2, col_list)\n",
    "\n",
    "datasets = [X_train_1, X_val1_1, X_val2_1]\n",
    "# ,'posEntryMode',\n",
    "X_train_3, X_val1_3, X_val2_3 = [ap.transform(datasets[i]) for i in range(3)]"
   ]
  },
  {
   "cell_type": "code",
   "execution_count": 42,
   "id": "74610ab5",
   "metadata": {},
   "outputs": [
    {
     "data": {
      "text/html": [
       "<div>\n",
       "<style scoped>\n",
       "    .dataframe tbody tr th:only-of-type {\n",
       "        vertical-align: middle;\n",
       "    }\n",
       "\n",
       "    .dataframe tbody tr th {\n",
       "        vertical-align: top;\n",
       "    }\n",
       "\n",
       "    .dataframe thead th {\n",
       "        text-align: right;\n",
       "    }\n",
       "</style>\n",
       "<table border=\"1\" class=\"dataframe\">\n",
       "  <thead>\n",
       "    <tr style=\"text-align: right;\">\n",
       "      <th></th>\n",
       "      <th>accountNumber</th>\n",
       "      <th>merchantId</th>\n",
       "      <th>mcc</th>\n",
       "      <th>merchantCountry</th>\n",
       "      <th>merchantZip</th>\n",
       "      <th>posEntryMode</th>\n",
       "      <th>transactionAmount</th>\n",
       "      <th>availableCash</th>\n",
       "      <th>month</th>\n",
       "      <th>day</th>\n",
       "      <th>hour</th>\n",
       "      <th>merchantId_prob</th>\n",
       "      <th>merchantZip_prob</th>\n",
       "      <th>mcc_prob</th>\n",
       "      <th>posEntryMode_prob</th>\n",
       "    </tr>\n",
       "  </thead>\n",
       "  <tbody>\n",
       "    <tr>\n",
       "      <th>0</th>\n",
       "      <td>403</td>\n",
       "      <td>17653</td>\n",
       "      <td>5812</td>\n",
       "      <td>826</td>\n",
       "      <td>2541</td>\n",
       "      <td>5</td>\n",
       "      <td>2.174752</td>\n",
       "      <td>8500</td>\n",
       "      <td>9</td>\n",
       "      <td>13</td>\n",
       "      <td>18</td>\n",
       "      <td>0.030488</td>\n",
       "      <td>0.109756</td>\n",
       "      <td>0.250000</td>\n",
       "      <td>0.817073</td>\n",
       "    </tr>\n",
       "    <tr>\n",
       "      <th>1</th>\n",
       "      <td>403</td>\n",
       "      <td>17653</td>\n",
       "      <td>5812</td>\n",
       "      <td>826</td>\n",
       "      <td>2541</td>\n",
       "      <td>5</td>\n",
       "      <td>2.174752</td>\n",
       "      <td>7500</td>\n",
       "      <td>9</td>\n",
       "      <td>13</td>\n",
       "      <td>18</td>\n",
       "      <td>0.030488</td>\n",
       "      <td>0.109756</td>\n",
       "      <td>0.250000</td>\n",
       "      <td>0.817073</td>\n",
       "    </tr>\n",
       "    <tr>\n",
       "      <th>2</th>\n",
       "      <td>598</td>\n",
       "      <td>4084</td>\n",
       "      <td>5968</td>\n",
       "      <td>826</td>\n",
       "      <td>2621</td>\n",
       "      <td>1</td>\n",
       "      <td>1.955860</td>\n",
       "      <td>3500</td>\n",
       "      <td>9</td>\n",
       "      <td>13</td>\n",
       "      <td>18</td>\n",
       "      <td>0.200000</td>\n",
       "      <td>0.355556</td>\n",
       "      <td>0.377778</td>\n",
       "      <td>0.355556</td>\n",
       "    </tr>\n",
       "    <tr>\n",
       "      <th>3</th>\n",
       "      <td>121</td>\n",
       "      <td>7708</td>\n",
       "      <td>5541</td>\n",
       "      <td>826</td>\n",
       "      <td>2388</td>\n",
       "      <td>5</td>\n",
       "      <td>3.091042</td>\n",
       "      <td>7500</td>\n",
       "      <td>9</td>\n",
       "      <td>13</td>\n",
       "      <td>18</td>\n",
       "      <td>0.147368</td>\n",
       "      <td>0.400000</td>\n",
       "      <td>0.326316</td>\n",
       "      <td>0.863158</td>\n",
       "    </tr>\n",
       "    <tr>\n",
       "      <th>4</th>\n",
       "      <td>403</td>\n",
       "      <td>18881</td>\n",
       "      <td>5994</td>\n",
       "      <td>826</td>\n",
       "      <td>2541</td>\n",
       "      <td>5</td>\n",
       "      <td>1.791759</td>\n",
       "      <td>7500</td>\n",
       "      <td>9</td>\n",
       "      <td>13</td>\n",
       "      <td>19</td>\n",
       "      <td>0.012195</td>\n",
       "      <td>0.109756</td>\n",
       "      <td>0.073171</td>\n",
       "      <td>0.817073</td>\n",
       "    </tr>\n",
       "  </tbody>\n",
       "</table>\n",
       "</div>"
      ],
      "text/plain": [
       "   accountNumber  merchantId   mcc  merchantCountry  merchantZip  \\\n",
       "0            403       17653  5812              826         2541   \n",
       "1            403       17653  5812              826         2541   \n",
       "2            598        4084  5968              826         2621   \n",
       "3            121        7708  5541              826         2388   \n",
       "4            403       18881  5994              826         2541   \n",
       "\n",
       "   posEntryMode  transactionAmount  availableCash  month  day  hour  \\\n",
       "0             5           2.174752           8500      9   13    18   \n",
       "1             5           2.174752           7500      9   13    18   \n",
       "2             1           1.955860           3500      9   13    18   \n",
       "3             5           3.091042           7500      9   13    18   \n",
       "4             5           1.791759           7500      9   13    19   \n",
       "\n",
       "   merchantId_prob  merchantZip_prob  mcc_prob  posEntryMode_prob  \n",
       "0         0.030488          0.109756  0.250000           0.817073  \n",
       "1         0.030488          0.109756  0.250000           0.817073  \n",
       "2         0.200000          0.355556  0.377778           0.355556  \n",
       "3         0.147368          0.400000  0.326316           0.863158  \n",
       "4         0.012195          0.109756  0.073171           0.817073  "
      ]
     },
     "execution_count": 42,
     "metadata": {},
     "output_type": "execute_result"
    }
   ],
   "source": [
    "X_val1_3.head()"
   ]
  },
  {
   "cell_type": "code",
   "execution_count": 43,
   "id": "a187403c",
   "metadata": {},
   "outputs": [
    {
     "name": "stdout",
     "output_type": "stream",
     "text": [
      "Running fit...\n",
      "Running fit... DONE!\n",
      "--- Training set ---\n",
      "confusion matrix\n",
      "[[78053     0]\n",
      " [    0   568]]\n",
      "f1 score = 1.0\n",
      "by checking 400 trans. per month we can find 70% of the frauds (tot 568.0) \n",
      "\n",
      "--- Validation set #1 ---\n",
      "confusion matrix\n",
      "[[9896    2]\n",
      " [  83   19]]\n",
      "f1 score = 0.3089430894308943\n",
      "by checking 400 trans. per month we can find 44% of the frauds (tot 102.0) \n",
      "\n",
      "--- Validation set #2 ---\n",
      "confusion matrix\n",
      "[[9888    3]\n",
      " [ 101    8]]\n",
      "f1 score = 0.13333333333333333\n",
      "by checking 400 trans. per month we can find 61% of the frauds (tot 109.0) \n",
      "\n",
      "\n",
      "-- Features Importance for classifier --\n",
      "   index            feature  importance\n",
      "0      9                day    0.091697\n",
      "1     11    merchantId_prob    0.090821\n",
      "2     12   merchantZip_prob    0.088178\n",
      "3     14  posEntryMode_prob    0.087951\n",
      "4      0      accountNumber    0.085448\n",
      "5     13           mcc_prob    0.084064\n"
     ]
    }
   ],
   "source": [
    "##############\n",
    "# EVALUATION\n",
    "##############\n",
    "\n",
    "X_traint = X_train_3.copy()\n",
    "X_val1t = X_val1_3.copy()\n",
    "X_val2t = X_val2_3.copy()\n",
    "\n",
    "ev_4 = Evaluation()\n",
    "ev_4.fit(X_traint, y_train)\n",
    "datasets = [X_traint, X_val1t, X_val2t]\n",
    "y_datasets = [y_train, y_val1, y_val2]\n",
    "title=['Training set', 'Validation set #1', 'Validation set #2']\n",
    "det_train, det_val1, det_val2 = [ev_4.evaluate(datasets[i], y_datasets[i], title[i]) for i in range(3)]\n",
    "ev_4.feature_importance()"
   ]
  },
  {
   "cell_type": "markdown",
   "id": "c7968e43",
   "metadata": {},
   "source": [
    "### Comment:\n",
    "these new features do not improve the performance of the model and are dropped."
   ]
  },
  {
   "cell_type": "markdown",
   "id": "a571006c",
   "metadata": {},
   "source": [
    "## Create new features with unsuprevised learning: Isolation forest\n",
    "Isolation forest is one of the most effective unsupervised algorithms for anomaly detection.\n",
    "\n",
    "We use it to generate new features to use with our supervised learning approach."
   ]
  },
  {
   "cell_type": "code",
   "execution_count": 44,
   "id": "b494c818",
   "metadata": {},
   "outputs": [
    {
     "ename": "NameError",
     "evalue": "name 'X_test_2' is not defined",
     "output_type": "error",
     "traceback": [
      "\u001b[1;31m---------------------------------------------------------------------------\u001b[0m",
      "\u001b[1;31mNameError\u001b[0m                                 Traceback (most recent call last)",
      "Cell \u001b[1;32mIn[44], line 5\u001b[0m\n\u001b[0;32m      3\u001b[0m X_val1_4\u001b[38;5;241m=\u001b[39m X_val1_2\u001b[38;5;241m.\u001b[39mcopy()\n\u001b[0;32m      4\u001b[0m X_val2_4\u001b[38;5;241m=\u001b[39m X_val2_2\u001b[38;5;241m.\u001b[39mcopy()\n\u001b[1;32m----> 5\u001b[0m X_test_4\u001b[38;5;241m=\u001b[39m X_test_2\u001b[38;5;241m.\u001b[39mcopy()\n\u001b[0;32m      6\u001b[0m model\u001b[38;5;241m=\u001b[39mIsolationForest(n_estimators\u001b[38;5;241m=\u001b[39m\u001b[38;5;241m50\u001b[39m, max_samples\u001b[38;5;241m=\u001b[39m\u001b[38;5;124m'\u001b[39m\u001b[38;5;124mauto\u001b[39m\u001b[38;5;124m'\u001b[39m, contamination\u001b[38;5;241m=\u001b[39m\u001b[38;5;28mfloat\u001b[39m(\u001b[38;5;241m0.1\u001b[39m),max_features\u001b[38;5;241m=\u001b[39m\u001b[38;5;241m1.0\u001b[39m)\n\u001b[0;32m      7\u001b[0m model\u001b[38;5;241m.\u001b[39mfit(X_train_2)\n",
      "\u001b[1;31mNameError\u001b[0m: name 'X_test_2' is not defined"
     ]
    }
   ],
   "source": [
    "from sklearn.ensemble import IsolationForest\n",
    "X_train_4= X_train_2.copy()\n",
    "X_val1_4= X_val1_2.copy()\n",
    "X_val2_4= X_val2_2.copy()\n",
    "X_test_4= X_test_2.copy()\n",
    "model=IsolationForest(n_estimators=50, max_samples='auto', contamination=float(0.1),max_features=1.0)\n",
    "model.fit(X_train_2)\n",
    "X_train_4['scores']=model.decision_function(X_train_2)\n",
    "X_train_4['anomaly']=model.predict(X_train_2)\n",
    "\n",
    "X_val1_4['scores']=model.decision_function(X_val1_2)\n",
    "X_val1_4['anomaly']=model.predict(X_val1_2)\n",
    "\n",
    "X_val2_4['scores']=model.decision_function(X_val2_2)\n",
    "X_val2_4['anomaly']=model.predict(X_val2_2)\n",
    "\n",
    "X_test_4['scores']=model.decision_function(X_test_2)\n",
    "X_test_4['anomaly']=model.predict(X_test_2)"
   ]
  },
  {
   "cell_type": "code",
   "execution_count": null,
   "id": "174cb906",
   "metadata": {},
   "outputs": [],
   "source": [
    "##############\n",
    "# EVALUATION\n",
    "##############\n",
    "\n",
    "X_traint = X_train_4.copy()\n",
    "X_val1t = X_val1_4.copy()\n",
    "X_val2t = X_val2_4.copy()\n",
    "X_testt = X_test_4.copy()"
   ]
  },
  {
   "cell_type": "code",
   "execution_count": 45,
   "id": "22ae8b18",
   "metadata": {},
   "outputs": [
    {
     "name": "stdout",
     "output_type": "stream",
     "text": [
      "Running fit...\n",
      "Running fit... DONE!\n",
      "--- Training set ---\n",
      "confusion matrix\n",
      "[[78053     0]\n",
      " [    0   568]]\n",
      "f1 score = 1.0\n",
      "by checking 400 trans. per month we can find 70% of the frauds (tot 568.0) \n",
      "\n",
      "--- Validation set #1 ---\n",
      "confusion matrix\n",
      "[[9896    2]\n",
      " [  83   19]]\n",
      "f1 score = 0.3089430894308943\n",
      "by checking 400 trans. per month we can find 44% of the frauds (tot 102.0) \n",
      "\n",
      "--- Validation set #2 ---\n",
      "confusion matrix\n",
      "[[9888    3]\n",
      " [ 101    8]]\n",
      "f1 score = 0.13333333333333333\n",
      "by checking 400 trans. per month we can find 61% of the frauds (tot 109.0) \n",
      "\n",
      "\n",
      "-- Features Importance for classifier --\n",
      "   index            feature  importance\n",
      "0      9                day    0.091697\n",
      "1     11    merchantId_prob    0.090821\n",
      "2     12   merchantZip_prob    0.088178\n",
      "3     14  posEntryMode_prob    0.087951\n",
      "4      0      accountNumber    0.085448\n",
      "5     13           mcc_prob    0.084064\n"
     ]
    }
   ],
   "source": [
    "ev_4 = Evaluation()\n",
    "ev_4.fit(X_traint, y_train)\n",
    "datasets = [X_traint, X_val1t, X_val2t]\n",
    "y_datasets = [y_train, y_val1, y_val2]\n",
    "title=['Training set', 'Validation set #1', 'Validation set #2']\n",
    "det_train, det_val1, det_val2 = [ev_4.evaluate(datasets[i], y_datasets[i], title[i]) for i in range(3)]\n",
    "ev_4.feature_importance()"
   ]
  },
  {
   "cell_type": "markdown",
   "id": "6fa8a53e",
   "metadata": {},
   "source": [
    "Comment: Also these new features only make the performance worse for the second validation set and therefore are dropped.\n",
    "\n",
    "Surprisingly, it turns out that the dataset with less new features (X_train_2) produces the best performance."
   ]
  },
  {
   "cell_type": "markdown",
   "id": "4c2f82fd",
   "metadata": {},
   "source": [
    "## Test different classifiers\n",
    "After selecting the best features we are going to select the best classifier.\n",
    "\n",
    "We are going to compare the performance of 5 different classifiers.\n",
    "\n",
    "Performances are estimated using f1 score and area under the ROC curve."
   ]
  },
  {
   "cell_type": "markdown",
   "id": "1af6dee3",
   "metadata": {},
   "source": [
    "## Standardize all features\n",
    "The random forest classifier does not require normalization. However, this is important for the other classifiers we are going to test."
   ]
  },
  {
   "cell_type": "code",
   "execution_count": 46,
   "id": "96ac68ec",
   "metadata": {},
   "outputs": [],
   "source": [
    "X_traint = X_train_1.copy()\n",
    "X_val1t = X_val1_1.copy()\n",
    "X_val2t = X_val2_1.copy()\n",
    "\n",
    "ss = StandardScaler()\n",
    "\n",
    "X_train_ss = pd.DataFrame(ss.fit_transform(X_traint), columns=X_traint.columns)\n",
    "X_val1_ss  = pd.DataFrame(ss.transform(X_val1t), columns=X_val1t.columns)\n",
    "X_val2_ss  = pd.DataFrame(ss.transform(X_val2t), columns=X_val2t.columns)"
   ]
  },
  {
   "cell_type": "code",
   "execution_count": 47,
   "id": "b2d615d8",
   "metadata": {},
   "outputs": [
    {
     "data": {
      "text/html": [
       "<div>\n",
       "<style scoped>\n",
       "    .dataframe tbody tr th:only-of-type {\n",
       "        vertical-align: middle;\n",
       "    }\n",
       "\n",
       "    .dataframe tbody tr th {\n",
       "        vertical-align: top;\n",
       "    }\n",
       "\n",
       "    .dataframe thead th {\n",
       "        text-align: right;\n",
       "    }\n",
       "</style>\n",
       "<table border=\"1\" class=\"dataframe\">\n",
       "  <thead>\n",
       "    <tr style=\"text-align: right;\">\n",
       "      <th></th>\n",
       "      <th>accountNumber</th>\n",
       "      <th>merchantId</th>\n",
       "      <th>mcc</th>\n",
       "      <th>merchantCountry</th>\n",
       "      <th>merchantZip</th>\n",
       "      <th>posEntryMode</th>\n",
       "      <th>transactionAmount</th>\n",
       "      <th>availableCash</th>\n",
       "      <th>month</th>\n",
       "      <th>day</th>\n",
       "      <th>hour</th>\n",
       "    </tr>\n",
       "  </thead>\n",
       "  <tbody>\n",
       "    <tr>\n",
       "      <th>0</th>\n",
       "      <td>0.423593</td>\n",
       "      <td>0.817719</td>\n",
       "      <td>0.144629</td>\n",
       "      <td>0.427402</td>\n",
       "      <td>-0.974779</td>\n",
       "      <td>-0.761328</td>\n",
       "      <td>-0.646042</td>\n",
       "      <td>0.243167</td>\n",
       "      <td>-1.558606</td>\n",
       "      <td>-1.635835</td>\n",
       "      <td>-1.768416</td>\n",
       "    </tr>\n",
       "    <tr>\n",
       "      <th>1</th>\n",
       "      <td>-0.250695</td>\n",
       "      <td>-0.165919</td>\n",
       "      <td>-0.339550</td>\n",
       "      <td>0.427402</td>\n",
       "      <td>-0.888768</td>\n",
       "      <td>1.499231</td>\n",
       "      <td>-0.072079</td>\n",
       "      <td>-0.634330</td>\n",
       "      <td>-1.558606</td>\n",
       "      <td>-1.635835</td>\n",
       "      <td>-1.768416</td>\n",
       "    </tr>\n",
       "    <tr>\n",
       "      <th>2</th>\n",
       "      <td>0.976134</td>\n",
       "      <td>0.320439</td>\n",
       "      <td>-0.095912</td>\n",
       "      <td>-2.100964</td>\n",
       "      <td>1.286739</td>\n",
       "      <td>1.499231</td>\n",
       "      <td>-1.242077</td>\n",
       "      <td>0.828165</td>\n",
       "      <td>-1.558606</td>\n",
       "      <td>-1.635835</td>\n",
       "      <td>-1.768416</td>\n",
       "    </tr>\n",
       "    <tr>\n",
       "      <th>3</th>\n",
       "      <td>-1.608635</td>\n",
       "      <td>-0.003374</td>\n",
       "      <td>-0.339550</td>\n",
       "      <td>0.427402</td>\n",
       "      <td>0.267700</td>\n",
       "      <td>1.499231</td>\n",
       "      <td>-0.079811</td>\n",
       "      <td>0.243167</td>\n",
       "      <td>-1.558606</td>\n",
       "      <td>-1.635835</td>\n",
       "      <td>-1.768416</td>\n",
       "    </tr>\n",
       "    <tr>\n",
       "      <th>4</th>\n",
       "      <td>-0.990538</td>\n",
       "      <td>-1.492802</td>\n",
       "      <td>-0.430398</td>\n",
       "      <td>0.427402</td>\n",
       "      <td>0.022757</td>\n",
       "      <td>1.499231</td>\n",
       "      <td>0.621662</td>\n",
       "      <td>1.120664</td>\n",
       "      <td>-1.558606</td>\n",
       "      <td>-1.635835</td>\n",
       "      <td>-1.768416</td>\n",
       "    </tr>\n",
       "  </tbody>\n",
       "</table>\n",
       "</div>"
      ],
      "text/plain": [
       "   accountNumber  merchantId       mcc  merchantCountry  merchantZip  \\\n",
       "0       0.423593    0.817719  0.144629         0.427402    -0.974779   \n",
       "1      -0.250695   -0.165919 -0.339550         0.427402    -0.888768   \n",
       "2       0.976134    0.320439 -0.095912        -2.100964     1.286739   \n",
       "3      -1.608635   -0.003374 -0.339550         0.427402     0.267700   \n",
       "4      -0.990538   -1.492802 -0.430398         0.427402     0.022757   \n",
       "\n",
       "   posEntryMode  transactionAmount  availableCash     month       day  \\\n",
       "0     -0.761328          -0.646042       0.243167 -1.558606 -1.635835   \n",
       "1      1.499231          -0.072079      -0.634330 -1.558606 -1.635835   \n",
       "2      1.499231          -1.242077       0.828165 -1.558606 -1.635835   \n",
       "3      1.499231          -0.079811       0.243167 -1.558606 -1.635835   \n",
       "4      1.499231           0.621662       1.120664 -1.558606 -1.635835   \n",
       "\n",
       "       hour  \n",
       "0 -1.768416  \n",
       "1 -1.768416  \n",
       "2 -1.768416  \n",
       "3 -1.768416  \n",
       "4 -1.768416  "
      ]
     },
     "execution_count": 47,
     "metadata": {},
     "output_type": "execute_result"
    }
   ],
   "source": [
    "X_train_ss.head()"
   ]
  },
  {
   "cell_type": "code",
   "execution_count": 48,
   "id": "7d7f9b19",
   "metadata": {},
   "outputs": [],
   "source": [
    "# test 5 different models \n",
    "classifiers_labels = [\n",
    "    'KNeighborsClassifier',\n",
    "    'LogisticRegression',\n",
    "    #OneClassSVM(gamma='scale', nu=0.01),\n",
    "    'RandomForestClassifier',\n",
    "    'AdaBoostClassifier',\n",
    "    'GradientBoostingClassifier'\n",
    "    ]\n",
    "# evaluation is based on f1_score enven if also area under the ROC curve is shown\n",
    "from sklearn.neighbors import KNeighborsClassifier\n",
    "from sklearn.svm import SVC\n",
    "classifiers = [\n",
    "    KNeighborsClassifier(algorithm=\"kd_tree\"),\n",
    "    LogisticRegression( class_weight='balanced'),\n",
    "    # OneClassSVM()\n",
    "    RandomForestClassifier(),\n",
    "    AdaBoostClassifier(),\n",
    "    GradientBoostingClassifier()\n",
    "    ]\n",
    "\n",
    "f1, auc1, auc2, tt = [], [],[], []\n",
    "for classifier in classifiers:\n",
    "    #print(classifier)\n",
    "    steps = [\n",
    "         ('clf', classifier)\n",
    "    ]\n",
    "    pipeline = Pipeline(steps)\n",
    "    pipeline.fit(X_train_ss, y_train) \n",
    "\n",
    "    # test on the two validation sets   \n",
    "    X = [X_val1_ss,X_val2_ss]\n",
    "    Y = [y_val1,y_val2]\n",
    "    \n",
    "    # estimate f1 score\n",
    "    #------------------\n",
    "    ff =0\n",
    "    for i in range(2):\n",
    "        ff+=f1_score(Y[i], pipeline.predict(X[i]))\n",
    "\n",
    "    f1.append(ff/2)\n",
    "    # print(f'f1 = {ff/2}')\n",
    "    \n",
    "    # estimate area under the ROC curve\n",
    "    #------------------\n",
    "    #y_val_decisions = pipeline.decision_function(X_val) # you can also use the dicision values \n",
    "    y_val_pred_prob = pipeline.predict_proba(X_val1_ss)\n",
    "    y_val_prob = y_val_pred_prob[:,1]\n",
    "    \n",
    "    auc1.append(roc_auc_score(y_val1, y_val_prob))\n",
    "    # print(roc_auc_score(y_val1, y_val_prob))"
   ]
  },
  {
   "cell_type": "markdown",
   "id": "afb83c9a",
   "metadata": {},
   "source": [
    "## Compare classifier's performances"
   ]
  },
  {
   "cell_type": "code",
   "execution_count": 50,
   "id": "6a87096b",
   "metadata": {},
   "outputs": [
    {
     "data": {
      "text/html": [
       "<div>\n",
       "<style scoped>\n",
       "    .dataframe tbody tr th:only-of-type {\n",
       "        vertical-align: middle;\n",
       "    }\n",
       "\n",
       "    .dataframe tbody tr th {\n",
       "        vertical-align: top;\n",
       "    }\n",
       "\n",
       "    .dataframe thead th {\n",
       "        text-align: right;\n",
       "    }\n",
       "</style>\n",
       "<table border=\"1\" class=\"dataframe\">\n",
       "  <thead>\n",
       "    <tr style=\"text-align: right;\">\n",
       "      <th></th>\n",
       "      <th>Classifier</th>\n",
       "      <th>f1_score</th>\n",
       "      <th>AUC</th>\n",
       "    </tr>\n",
       "  </thead>\n",
       "  <tbody>\n",
       "    <tr>\n",
       "      <th>2</th>\n",
       "      <td>Random Forest</td>\n",
       "      <td>0.183341</td>\n",
       "      <td>0.865688</td>\n",
       "    </tr>\n",
       "    <tr>\n",
       "      <th>4</th>\n",
       "      <td>Gradient-Boosting</td>\n",
       "      <td>0.060903</td>\n",
       "      <td>0.822014</td>\n",
       "    </tr>\n",
       "    <tr>\n",
       "      <th>3</th>\n",
       "      <td>AdaBoost</td>\n",
       "      <td>0.056452</td>\n",
       "      <td>0.866108</td>\n",
       "    </tr>\n",
       "    <tr>\n",
       "      <th>1</th>\n",
       "      <td>Logistic Regression</td>\n",
       "      <td>0.048471</td>\n",
       "      <td>0.819755</td>\n",
       "    </tr>\n",
       "    <tr>\n",
       "      <th>0</th>\n",
       "      <td>K Neighbors</td>\n",
       "      <td>0.046298</td>\n",
       "      <td>0.617108</td>\n",
       "    </tr>\n",
       "  </tbody>\n",
       "</table>\n",
       "</div>"
      ],
      "text/plain": [
       "            Classifier  f1_score       AUC\n",
       "2        Random Forest  0.183341  0.865688\n",
       "4    Gradient-Boosting  0.060903  0.822014\n",
       "3             AdaBoost  0.056452  0.866108\n",
       "1  Logistic Regression  0.048471  0.819755\n",
       "0          K Neighbors  0.046298  0.617108"
      ]
     },
     "execution_count": 50,
     "metadata": {},
     "output_type": "execute_result"
    }
   ],
   "source": [
    "classifiers_labels = [\n",
    "    'K Neighbors',\n",
    "    'Logistic Regression',\n",
    "    #OneClassSVM(gamma='scale', nu=0.01),\n",
    "    'Random Forest',\n",
    "    'AdaBoost',\n",
    "    'Gradient-Boosting'\n",
    "    ]\n",
    "Summ = pd.DataFrame({'Classifier':classifiers_labels,'f1_score':f1,'AUC':auc1})\n",
    "Summ.sort_values(by='f1_score', inplace=True, ascending=False)\n",
    "Summ"
   ]
  },
  {
   "cell_type": "markdown",
   "id": "a33dd75d",
   "metadata": {},
   "source": [
    "### Comment:\n",
    "the Random Forest classifier is the one producing the best performance"
   ]
  },
  {
   "cell_type": "markdown",
   "id": "5e5e0ad2",
   "metadata": {},
   "source": [
    "## Random forest Optimization"
   ]
  },
  {
   "cell_type": "code",
   "execution_count": 52,
   "id": "1f371531",
   "metadata": {},
   "outputs": [
    {
     "name": "stdout",
     "output_type": "stream",
     "text": [
      "{'n_estimators': [400, 500, 600], 'max_features': [2, 4, 8, 'auto'], 'max_depth': [2, 5, None], 'bootstrap': [True, False], 'class_weight': ['balanced', None]}\n"
     ]
    }
   ],
   "source": [
    "X_train_val1 = pd.concat([X_train_1, X_val1_1, X_val2_1],axis=0,ignore_index=True)\n",
    "y_train_val1 = np.concatenate([y_train, y_val1 , y_val2])\n",
    "# Create a list where train data indices are -1 and validation data indices are 0\n",
    "split_index = np.concatenate([np.ones(X_train_1.shape[0])*-1, np.zeros(X_val1_1.shape[0]), np.ones(X_val2_1.shape[0])])\n",
    "# Use the list to create PredefinedSplit\n",
    "pds = PredefinedSplit(test_fold = split_index)\n",
    "\n",
    "rf=RandomForestClassifier(random_state=2000, n_jobs=-1)\n",
    "rf2 = Pipeline([\n",
    "\t# (\"kmeans\", KMeans()),\n",
    "\t(\"rndf_clf\", RandomForestClassifier(random_state=2000, n_jobs=-1))\n",
    "])\n",
    "\n",
    "# Create the random grid\n",
    "random_grid = {'n_estimators': [400, 500, 600],\n",
    "               'max_features': [2, 4, 8, 'auto'],\n",
    "               'max_depth': [2, 5, None],\n",
    "               'bootstrap': [True, False],\n",
    "               'class_weight':['balanced', None]\n",
    "               }\n",
    "print(random_grid)"
   ]
  },
  {
   "cell_type": "code",
   "execution_count": null,
   "id": "fbe2c6ca",
   "metadata": {},
   "outputs": [],
   "source": [
    "rf_random = RandomizedSearchCV(estimator = rf, param_distributions = random_grid, n_iter = 50, cv = pds, verbose=2, random_state=2000, n_jobs = -1)\n",
    "# Fit the random search model\n",
    "rf_random.fit(X_train_val1,y_train_val1)"
   ]
  },
  {
   "cell_type": "code",
   "execution_count": 54,
   "id": "65c11def",
   "metadata": {},
   "outputs": [
    {
     "data": {
      "text/plain": [
       "{'n_estimators': 600,\n",
       " 'max_features': 8,\n",
       " 'max_depth': None,\n",
       " 'class_weight': None,\n",
       " 'bootstrap': True}"
      ]
     },
     "execution_count": 54,
     "metadata": {},
     "output_type": "execute_result"
    }
   ],
   "source": [
    "rf_random.best_params_"
   ]
  },
  {
   "cell_type": "code",
   "execution_count": 55,
   "id": "188a71e7",
   "metadata": {},
   "outputs": [
    {
     "data": {
      "text/plain": [
       "\"\\n{'n_estimators': 500,\\n 'max_features': 'auto',\\n 'max_depth': None,\\n 'class_weight': 'balanced',\\n 'bootstrap': False}\\n\""
      ]
     },
     "execution_count": 55,
     "metadata": {},
     "output_type": "execute_result"
    }
   ],
   "source": [
    "'''\n",
    "{'n_estimators': 500,\n",
    " 'max_features': 'auto',\n",
    " 'max_depth': None,\n",
    " 'class_weight': 'balanced',\n",
    " 'bootstrap': False}\n",
    "'''"
   ]
  },
  {
   "cell_type": "markdown",
   "id": "a97df91b",
   "metadata": {},
   "source": [
    "## Evaluation of optimized classifier"
   ]
  },
  {
   "cell_type": "code",
   "execution_count": null,
   "id": "a88650a8",
   "metadata": {},
   "outputs": [],
   "source": [
    "#######################\n",
    "# Evaluation\n",
    "######################\n",
    "\n",
    "X_traint = X_train_ss.copy()\n",
    "X_val1t = X_val1_ss.copy()\n",
    "X_val2t = X_val2_ss.copy()\n",
    "\n",
    "# Optimized hyperparameters\n",
    "clf = RandomForestClassifier(random_state=2000, n_estimators=500, n_jobs=-1,  bootstrap = False)#max_features = 4, class_weight='balanced', , n_estimators=300, max_features='auto'\n",
    "clf.fit(X_traint, y_train) "
   ]
  },
  {
   "cell_type": "code",
   "execution_count": null,
   "id": "15949f11",
   "metadata": {},
   "outputs": [],
   "source": [
    "ev_5 = Evaluation()\n",
    "ev_5.clf= clf\n",
    "\n",
    "datasets = [X_traint, X_val1t, X_val2t]\n",
    "y_datasets = [y_train, y_val1, y_val2]\n",
    "title=['Training set', 'Validation set #1', 'Validation set #2']\n",
    "det_train, det_val1, det_val2 = [ev_5.evaluate(datasets[i], y_datasets[i], title[i]) for i in range(3)]\n",
    "ev_5.feature_importance()"
   ]
  },
  {
   "cell_type": "markdown",
   "id": "00bee080",
   "metadata": {},
   "source": [
    "## Display precision/recall vs threshold"
   ]
  },
  {
   "cell_type": "code",
   "execution_count": null,
   "id": "ed50088f",
   "metadata": {},
   "outputs": [],
   "source": [
    "def plot_precision_recall_vs_threshold(clf, X, y): \n",
    "    '''plot_precision_recall_vs_threshold(clf, X)'''\n",
    "    \n",
    "    y_scores = clf.predict_proba(X)[:,1]\n",
    "    #y_scores = rnf_clf.decision_function(X_val)\n",
    "    precisions, recalls, thresholds = precision_recall_curve(y, y_scores)\n",
    "    \n",
    "    plt.figure(figsize=(10,4))\n",
    "    plt.subplot(121)\n",
    "    plt.plot(thresholds, precisions[:-1], \"b--\", label=\"Precision\") \n",
    "    plt.plot(thresholds, recalls[:-1], \"g-\", label=\"Recall\")\n",
    "    plt.xlabel('threshold')\n",
    "    plt.legend()\n",
    "    plt.grid()\n",
    "\n",
    "    plt.subplot(122)\n",
    "    plt.plot(recalls,precisions)\n",
    "    plt.xlabel('recall')\n",
    "    plt.ylabel('precision')\n",
    "    plt.grid()\n",
    "\n",
    "    plt.tight_layout()\n",
    "    plt.show()\n",
    "\n",
    "plot_precision_recall_vs_threshold(clf, X_val1t, y_val1)"
   ]
  },
  {
   "cell_type": "markdown",
   "id": "bdf4bf4f",
   "metadata": {},
   "source": [
    "## Evaluation of the best model on the test set\n",
    "The model was trained using 10 consecutive months of transactions, exclueded 20.000 randomly selected transactions that we used as validation set.\n",
    "\n",
    "Here we evaluate the performance of the model on two new months of transactions (20.000 transactions).\n",
    "\n",
    "We generate 20 random subsamples, each one corresponding to one month of transactions (i.e. 10.000 trans.), from the test set (i.e. bootstrap).\n",
    "\n",
    "For each subsample, we use the model to select the 400 transactions more likely to be a fraud. Then, we estimate the percentage of the total fraud transactions of the month we have found.\n",
    "\n",
    "As a control, we also show the average percentage of frauds we can detect by randomly selecting 400 transactions from the same subsamples.\n",
    "\n",
    "Furthermore, we show the average percentage of frauds we can detect using the model from the validation set."
   ]
  },
  {
   "cell_type": "markdown",
   "id": "a74d9295",
   "metadata": {},
   "source": [
    "## Pre-processing"
   ]
  },
  {
   "cell_type": "code",
   "execution_count": null,
   "id": "066ee6d1",
   "metadata": {},
   "outputs": [],
   "source": [
    "def PreProcess(X_train, X_test):\n",
    "    '''\n",
    "    X_train_pp, X_test_pp = PreProcess(X_train, X_test) \n",
    "\n",
    "    Transform the row data using the pre-processing steps selected using the validation sets\n",
    "    '''\n",
    "    datasets = [X_train, X_test]\n",
    "    # 1. reset index\n",
    "    X_train, X_test = [reset_indexes(datasets[i]) for i in range(2)]\n",
    "    # 2. transform categorical features \n",
    "    col_list = ['accountNumber','merchantId', 'merchantZip']\n",
    "    le = LabelEncoderExt()\n",
    "    for col in col_list:\n",
    "        le.fit(X_train[col])\n",
    "        X_train[col] = le.transform(X_train[col])\n",
    "        X_test[col] = le.transform(X_test[col])\n",
    "\n",
    "    # 3. Add time features \n",
    "    datasets = [X_train, X_test]\n",
    "    X_train, X_test = [add_time(datasets[i]) for i in range(2)]\n",
    "\n",
    "    # 4. Drop eventId\n",
    "    X_train.drop(columns=['eventId'],inplace=True)\n",
    "    X_test.drop(columns=['eventId'],inplace=True)\n",
    "\n",
    "    # 5. Standardize\n",
    "    ss = StandardScaler()\n",
    "    X_train = pd.DataFrame(ss.fit_transform(X_train), columns=X_train.columns)\n",
    "    X_test  = pd.DataFrame(ss.transform(X_test), columns=X_test.columns)\n",
    "    return X_train, X_test\n",
    "\n",
    "\n",
    "\n",
    "X_train_full_ss, X_test_ss = PreProcess(X_train_full, X_test) "
   ]
  },
  {
   "cell_type": "markdown",
   "id": "e80365c1",
   "metadata": {},
   "source": [
    "### Training"
   ]
  },
  {
   "cell_type": "code",
   "execution_count": null,
   "id": "46fc8bfc",
   "metadata": {},
   "outputs": [],
   "source": [
    "# Optimized hyperparameters\n",
    "clf = RandomForestClassifier(random_state=2000, n_estimators=500, n_jobs=-1,  bootstrap = False)#max_features = 4, class_weight='balanced', , n_estimators=300, max_features='auto'\n",
    "clf.fit(X_train_full_ss, y_train_full) "
   ]
  },
  {
   "cell_type": "markdown",
   "id": "2d946478",
   "metadata": {},
   "source": [
    "## Evaluation"
   ]
  },
  {
   "cell_type": "code",
   "execution_count": null,
   "id": "96af589f",
   "metadata": {},
   "outputs": [],
   "source": [
    "X_testt= X_test_ss.copy()\n",
    "ev_6 = Evaluation()\n",
    "ev_6.clf = clf\n",
    "\n",
    "N = 10000 # sample size corresponding to 1 month\n",
    "percent_frauds, percent_frauds_control = [], []\n",
    "money_saved, total_money  = [], []\n",
    "for n_tests in range(20):\n",
    "\n",
    "    # Test set\n",
    "    ii = np.random.RandomState(seed=n_tests ).permutation(np.arange(1,X_testt.shape[0],1))\n",
    "    bs_index = ii[:N]\n",
    "    xtt = X_testt.iloc[bs_index,:].copy()\n",
    "    ytt = y_test[bs_index]\n",
    "    y_val_prob = clf.predict_proba(xtt)\n",
    "    s = ev_6.Res(y_val_prob[:,1], ytt)\n",
    "    percent_frauds.append(s)\n",
    "\n",
    "    #money_saved.append( ev_6.Saved_Money() )\n",
    "    #ev_5.X = xtt\n",
    "    #ev_5.y = ytt\n",
    "    #total_money.append(ev_5.transAmount_total)\n",
    "    #print(f'test set: detected {s} % ')\n",
    "    \n",
    "    # Control: random selection \n",
    "    ii = np.random.RandomState(seed=n_tests ).permutation(np.arange(1,len(y_test),1))\n",
    "    sens = sum(y_test[ii[:400]])/sum(y_test)*100\n",
    "    percent_frauds_control.append(sens)\n",
    "    #print(f'random selection: detected {sens}%')\n",
    "    \n",
    "    \n",
    "print('Average across 20 bootstrapped datasets')\n",
    "print(f'1) model selection on test set {np.mean(percent_frauds)} % ')\n",
    "print(f'2) random selection on test set {np.mean(percent_frauds_control)} %')\n",
    "#print(f'3) model selection on validation set {np.mean(percent_frauds_cv)}')  \n",
    "# print(f'4) Money saved per month {np.mean(money_saved)} over {np.mean(total_money)} GBP')  "
   ]
  },
  {
   "cell_type": "markdown",
   "id": "fc47b87f",
   "metadata": {},
   "source": [
    "### Comment\n",
    "If our client was randomly selecting 400 transactions per month to check for frauds, it would detect less than the 2% of the them. On the other hand, using my model it would detect 15 times more frauds (the 30%)!\n",
    "\n",
    "This classification task is challenging for many reasons:\n",
    "\n",
    "the unbalance in the categories (only 1% of frauds)\n",
    "the very high detection threshold (we need to select 400 trials out of 10.000)\n",
    "fraudsters constantly optimize their strategy to escape anomaly detection strategies\n",
    "Finally, since we train the model over a certain period of time and then predict frauds from a different period (two new months), this is an extrapolation problem. Since the behaviors of the owners of the accounts and the fraudsters change over time, generalizations to future transactions are difficult.\n",
    "The model performance would be way better if we were randomly sampling the test set transactions over the same period of time as the training set."
   ]
  },
  {
   "cell_type": "markdown",
   "id": "002f985b",
   "metadata": {},
   "source": [
    "## Model peformance: test set from the same period of time as the training set"
   ]
  },
  {
   "cell_type": "code",
   "execution_count": null,
   "id": "6fd4752b",
   "metadata": {},
   "outputs": [],
   "source": [
    "# Split the data by random sampling \n",
    "# --------------------------------\n",
    "# Create a training set and two validation sets \n",
    "splitter_test = StratifiedShuffleSplit(n_splits=2, \n",
    "    test_size=20000, random_state=1000)\n",
    "\n",
    "for train_index, test_index in splitter_test.split(data, y):\n",
    "    X_train, X_test1 = data.loc[train_index], data.loc[test_index]\n",
    "    y_train, y_test1 = y[train_index], y[test_index]\n",
    "\n",
    "\n",
    "# Pre-processing \n",
    "# --------------------------------\n",
    "X_train_control, X_test_control = PreProcess(X_train, X_test1) \n",
    "\n",
    "clf_2 = RandomForestClassifier(random_state=2000, n_estimators=500, n_jobs=-1,  bootstrap = False)#max_features = 4, class_weight='balanced', , n_estimators=300, max_features='auto'\n",
    "clf_2.fit(X_train_control, y_train) \n",
    "\n",
    "# Evaluation\n",
    "# --------------------------------\n",
    "X_testt= X_test_control.copy()\n",
    "ev_7 = Evaluation()\n",
    "ev_7.clf = clf_2\n",
    "\n",
    "N = 10000 # sample size corresponding to 1 month\n",
    "\n",
    "percent_frauds_contr2 = [] \n",
    "money_saved, total_money  = [], []\n",
    "for n_tests in range(20):\n",
    "\n",
    "    # Test set\n",
    "    ii = np.random.RandomState(seed=n_tests ).permutation(np.arange(1,X_testt.shape[0],1))\n",
    "    bs_index = ii[:N]\n",
    "    xtt = X_testt.iloc[bs_index,:].copy()\n",
    "    ytt = y_test1[bs_index]\n",
    "    y_val_prob = clf.predict_proba(xtt)\n",
    "    s = ev_7.Res(y_val_prob[:,1], ytt)\n",
    "    percent_frauds_contr2.append(s)\n",
    "\n",
    "print(f'2) random selection on test set {np.mean(percent_frauds_contr2)} %')"
   ]
  },
  {
   "cell_type": "markdown",
   "id": "816a0e54",
   "metadata": {},
   "source": [
    "### Comment\n",
    "As expected, If the test data are sampled from the same period of time as the training data (cross-validation) the performance of the model raises to 91% on average.\n",
    "\n",
    "This confirms that the model does a pretty good job in predicting new frauds. The limitations in its performance depend on the variability of the data across time."
   ]
  },
  {
   "cell_type": "markdown",
   "id": "aae08a60",
   "metadata": {},
   "source": [
    "## Summary Figure"
   ]
  },
  {
   "cell_type": "code",
   "execution_count": null,
   "id": "54a7620a",
   "metadata": {},
   "outputs": [],
   "source": [
    "a = pd.DataFrame()\n",
    "a['w/o model'] = percent_frauds_control # random selection\n",
    "a['with model \\n (extrapol.)'] = percent_frauds\n",
    "a['with model \\n (interpol.)'] = percent_frauds_contr2\n",
    "\n",
    "plt.figure(figsize=(6,5))\n",
    "a.boxplot()\n",
    "plt.ylabel('frauds detected (%)')\n",
    "plt.title('Model Performance on Test set')\n",
    "plt.ylim([-5,100])\n",
    "\n",
    "# task: select the 400 transactions over 10000 with the higer probability to be a fraud\n",
    "#txt=\"task: select the 400 transactions over 10000 with the higer probability to be a fraud\"\n",
    "#plt.figtext(0.4, -0.1, txt, wrap=True, horizontalalignment='center', fontsize=12)"
   ]
  },
  {
   "cell_type": "markdown",
   "id": "d1444f9f",
   "metadata": {},
   "source": [
    "### Summary\n",
    "The goal of this study was the selection of a machine learning pipeline to predict the probability of frauds based on trasactions features.\n",
    "\n",
    "I created many diffent new features and tested several classification algorithms (supervised and unsupervised).\n",
    "\n",
    "I found that a Random Forest Classifier produces the best performance.\n",
    "\n",
    "I optimized the hyperparameters of this classifier and estimated the performance on the test set.\n",
    "\n",
    "Overall, using this model our client will detect 15 times more frauds than by randomly selecting the transactions to check."
   ]
  },
  {
   "cell_type": "markdown",
   "id": "ed433489",
   "metadata": {},
   "source": [
    "## Neural network\n",
    "I am going to test if a NN can produce better performance on this task"
   ]
  },
  {
   "cell_type": "code",
   "execution_count": null,
   "id": "69be6858",
   "metadata": {},
   "outputs": [],
   "source": [
    "from sklearn.preprocessing import StandardScaler\n",
    "ss = StandardScaler()\n",
    "\n",
    "X_train_ss = pd.DataFrame(ss.fit_transform(X_train_1), columns=X_train_1.columns)\n",
    "X_val1_ss  = pd.DataFrame(ss.transform(X_val1_1), columns=X_val1_1.columns)\n",
    "X_val2_ss  = pd.DataFrame(ss.transform(X_val2_1), columns=X_val2_1.columns)\n",
    "\n",
    "X_traint = X_train_ss.copy()\n",
    "X_val1t  = X_val1_ss.copy()\n",
    "X_val2t  = X_val2_ss.copy()"
   ]
  },
  {
   "cell_type": "markdown",
   "id": "63e4dc67",
   "metadata": {},
   "source": [
    "## Optimize NN"
   ]
  },
  {
   "cell_type": "code",
   "execution_count": null,
   "id": "8e11f796",
   "metadata": {},
   "outputs": [],
   "source": [
    "n_feat = X_train_ss.shape[-1]\n",
    "def build_model(n_hidden=0, n_neurons=10, learning_rate=1e-3, dropout=0,  n_feat=n_feat):\n",
    "    model = keras.models.Sequential()\n",
    "    model.add(keras.layers.Dense(n_feat, input_dim=n_feat, activation='relu',kernel_initializer=\"he_normal\"))\n",
    "    model.add(keras.layers.Dropout(rate=dropout))\n",
    "    for layer in range(n_hidden):\n",
    "        keras.layers.Dropout(rate=dropout)\n",
    "        model.add(keras.layers.Dense(n_neurons, activation='relu', kernel_initializer=\"he_normal\"))\n",
    "    model.add(keras.layers.Dense(1, activation='sigmoid'))\n",
    "    optimizer = keras.optimizers.Nadam(learning_rate=learning_rate)\n",
    "    model.compile(loss='binary_crossentropy', optimizer=optimizer, metrics=['AUC'])\n",
    "    return model\n",
    "\n",
    "\n",
    "keras_reg = keras.wrappers.scikit_learn.KerasClassifier(build_model)\n",
    "\n",
    "early_stopping_cb = keras.callbacks.EarlyStopping(patience=10, restore_best_weights=True) # stop training earlier if there are no progresses\n",
    "\n",
    "from scipy.stats import reciprocal\n",
    "from sklearn.model_selection import RandomizedSearchCV\n",
    "\n",
    "param_distribs = {\n",
    "    'n_hidden':[0,1,2,3],\n",
    "    'n_neurons':[5, 50, 100],\n",
    "    'dropout': [0, 0.2, 0.5],\n",
    "    'learning_rate':[0.001, 0.0001, 0.01]\n",
    "}\n",
    "\n",
    "\n",
    "X_train_val1 = pd.concat([X_train_ss, X_val1_ss, X_val2_ss],axis=0,ignore_index=True)\n",
    "y_train_val1 = np.concatenate([y_train, y_val1 , y_val2])\n",
    "# Create a list where train data indices are -1 and validation data indices are 0\n",
    "\n",
    "combine_val_sets = True\n",
    "if combine_val_sets:\n",
    "    # combine validation sets (to increase speed)\n",
    "    split_index = np.concatenate([np.ones(X_train_1.shape[0])*-1, np.zeros(X_val1_1.shape[0]+ X_val2_1.shape[0])])\n",
    "else:\n",
    "    # keep the two validation sets separated \n",
    "    split_index = np.concatenate([np.ones(X_train_1.shape[0])*-1, np.zeros(X_val1_1.shape[0]), np.ones(X_val2_1.shape[0])])\n",
    "\n",
    "\n",
    "\n",
    "# Use the list to create PredefinedSplit\n",
    "pds = PredefinedSplit(test_fold = split_index)\n",
    "\n",
    "\n",
    "rnf_search = RandomizedSearchCV(keras_reg, param_distribs, n_iter=50, cv=pds, verbose=2, random_state=2000, n_jobs = -1)\n",
    "\n",
    "# Fit the random search model\n",
    "BATCH_SIZE = 32\n",
    "history = rnf_search.fit(X_train_val1, y_train_val1, epochs=20, \n",
    "            validation_data=(X_val1_ss, y_val1), \n",
    "            callbacks=[early_stopping_cb],\n",
    "            batch_size=BATCH_SIZE)"
   ]
  },
  {
   "cell_type": "code",
   "execution_count": null,
   "id": "ebe4cbc3",
   "metadata": {},
   "outputs": [],
   "source": [
    "rnf_search.best_params_\n",
    "# {'n_neurons': 5, 'n_hidden': 1, 'learning_rate': 0.001, 'dropout': 0}"
   ]
  },
  {
   "cell_type": "markdown",
   "id": "f278d642",
   "metadata": {},
   "source": [
    "## Optimized NN model on validation set"
   ]
  },
  {
   "cell_type": "code",
   "execution_count": null,
   "id": "961dfbb9",
   "metadata": {},
   "outputs": [],
   "source": [
    "n_feat = X_traint.shape[-1]\n",
    "model = keras.models.Sequential([\n",
    "    keras.layers.Dense(n_feat, input_dim=n_feat, activation='relu',kernel_initializer=\"he_normal\" ), # ,kernel_regularizer=keras.regularizers.l2() ,kernel_regularizer=keras.regularizers.l2(0.001)\n",
    "    keras.layers.Dense(1, activation='sigmoid') # one output neuron for each class\n",
    "])\n",
    "model.compile(loss='binary_crossentropy', optimizer='nadam', metrics=['AUC'])\n",
    "\n",
    "early_stopping_cb = keras.callbacks.EarlyStopping(patience=10, restore_best_weights=True) # stop training earlier if there are no progresses\n",
    "\n",
    "BATCH_SIZE = 32\n",
    "history = model.fit(X_traint, y_train, epochs=30, \n",
    "                    validation_data=(X_val1t, y_val1), \n",
    "                    callbacks=[early_stopping_cb],\n",
    "                    batch_size=BATCH_SIZE)"
   ]
  },
  {
   "cell_type": "markdown",
   "id": "ab5941be",
   "metadata": {},
   "source": [
    "## Learning curves of the traning and validation sets"
   ]
  },
  {
   "cell_type": "code",
   "execution_count": null,
   "id": "a202ed7b",
   "metadata": {},
   "outputs": [],
   "source": [
    "pd.DataFrame(history.history).plot(figsize=(8,5))\n",
    "plt.grid()\n",
    "plt.gca().set_ylim(0,1)"
   ]
  },
  {
   "cell_type": "markdown",
   "id": "764d5ceb",
   "metadata": {},
   "source": [
    "### Comment:\n",
    "The AUC of training and validation sets are very similar, therefore the model is not overfitting."
   ]
  },
  {
   "cell_type": "markdown",
   "id": "41c78237",
   "metadata": {},
   "source": [
    "## Evaluation on validation set"
   ]
  },
  {
   "cell_type": "code",
   "execution_count": null,
   "id": "51e6a4e6",
   "metadata": {},
   "outputs": [],
   "source": [
    "def Res(y_val_prob, y_test):\n",
    "    # find index of pool with higher prob\n",
    "    prob = np.sort(y_val_prob)\n",
    "    pp_thr = prob[-399]\n",
    "    ii = np.where(y_val_prob>pp_thr)\n",
    "    yy_val = y_test[ii]\n",
    "    sens = sum(yy_val)/sum(y_test)*100\n",
    "    print(f'by checking 400 trans. per month we can find {round(sens)}% of the frauds (tot {sum(y_test)}) ')\n",
    "    #return sens\n",
    "\n",
    "\n",
    "y_val_prob =  model.predict(X_val1t)\n",
    "\n",
    "\n",
    "p = y_val_prob[:,-1].copy()\n",
    "p[p<0.5] = 0\n",
    "p[p>=0.5] = 1\n",
    "\n",
    "conf =confusion_matrix(y_val1, p )\n",
    "print(conf)\n",
    "\n",
    "f1 = f1_score(y_val1, p)\n",
    "print(f1)\n",
    "\n",
    "Res(y_val_prob[:,-1], y_val1)\n",
    "\n",
    "#---\n",
    "y_val_prob =  model.predict(X_val2t)\n",
    "p = y_val_prob[:,-1].copy()\n",
    "p[p<0.5] = 0\n",
    "p[p>=0.5] = 1\n",
    "conf =confusion_matrix(y_val2, p )\n",
    "print(conf)\n",
    "\n",
    "f1 = f1_score(y_val2, p)\n",
    "print(f1)\n",
    "\n",
    "Res(y_val_prob[:,-1], y_val2)"
   ]
  },
  {
   "cell_type": "markdown",
   "id": "61282b85",
   "metadata": {},
   "source": [
    "## Training on training set + validation set to evaluate on test set"
   ]
  },
  {
   "cell_type": "code",
   "execution_count": null,
   "id": "f3639d62",
   "metadata": {},
   "outputs": [],
   "source": [
    "n_feat = X_train_full_ss.shape[-1]\n",
    "model = keras.models.Sequential([\n",
    "    keras.layers.Dense(n_feat, input_dim=n_feat, activation='relu',kernel_initializer=\"he_normal\" ), # ,kernel_regularizer=keras.regularizers.l2() ,kernel_regularizer=keras.regularizers.l2(0.001)\n",
    "    keras.layers.Dense(1, activation='sigmoid') # one output neuron for each class\n",
    "])\n",
    "model.compile(loss='binary_crossentropy', optimizer='nadam', metrics=['AUC'])\n",
    "\n",
    "early_stopping_cb = keras.callbacks.EarlyStopping(patience=10, restore_best_weights=True) # stop training earlier if there are no progresses\n",
    "\n",
    "BATCH_SIZE = 32\n",
    "history = model.fit(X_train_full_ss, y_train_full, epochs=30, \n",
    "                    validation_data=(X_test_ss, y_test), \n",
    "                    callbacks=[early_stopping_cb],\n",
    "                    batch_size=BATCH_SIZE)"
   ]
  },
  {
   "cell_type": "code",
   "execution_count": null,
   "id": "fdd67705",
   "metadata": {},
   "outputs": [],
   "source": [
    "history.params"
   ]
  },
  {
   "cell_type": "markdown",
   "id": "4588abb2",
   "metadata": {},
   "source": [
    "## Display learning curve test set"
   ]
  },
  {
   "cell_type": "code",
   "execution_count": null,
   "id": "81555ba5",
   "metadata": {},
   "outputs": [],
   "source": [
    "pd.DataFrame(history.history).plot(figsize=(8,5))\n",
    "plt.grid()\n",
    "plt.gca().set_ylim(0,1)"
   ]
  },
  {
   "cell_type": "markdown",
   "id": "4c90b227",
   "metadata": {},
   "source": [
    "### Comment\n",
    "Here the overfitting is very severe"
   ]
  },
  {
   "cell_type": "markdown",
   "id": "4517606d",
   "metadata": {},
   "source": [
    "## Evaluation on the test set"
   ]
  },
  {
   "cell_type": "code",
   "execution_count": null,
   "id": "ddefde2c",
   "metadata": {},
   "outputs": [],
   "source": [
    "X_testt= X_test_ss.copy()\n",
    "ev_7 = Evaluation()\n",
    "ev_7.clf = model\n",
    "\n",
    "N = 10000 # sample size corresponding to 1 month\n",
    "percent_frauds, percent_frauds_control, percent_frauds_cv = [], [], []\n",
    "money_saved, total_money  = [], []\n",
    "for n_tests in range(20):\n",
    "\n",
    "    # Test set\n",
    "    ii = np.random.RandomState(seed=n_tests ).permutation(np.arange(1,X_testt.shape[0],1))\n",
    "    bs_index = ii[:N]\n",
    "    xtt = X_testt.iloc[bs_index,:].copy()\n",
    "    ytt = y_test[bs_index]\n",
    "\n",
    "    # adapted \n",
    "    y_val_prob = model.predict(xtt)\n",
    "    \n",
    "    s = ev_7.Res(y_val_prob[:,-1], ytt)\n",
    "    \n",
    "    percent_frauds.append(s)\n",
    "\n",
    "    # Control: random selection \n",
    "    ii = np.random.RandomState(seed=n_tests ).permutation(np.arange(1,len(y_test),1))\n",
    "    sens = sum(y_test[ii[:400]])/sum(y_test)*100\n",
    "    percent_frauds_control.append(sens)\n",
    "    #print(f'random selection: detected {sens}%')\n",
    "    \n",
    "    \n",
    "print('Average across 20 bootstrapped datasets')\n",
    "print(f'1) model selection on test set {np.mean(percent_frauds)} % ')\n",
    "print(f'2) random selection on test set {np.mean(percent_frauds_control)} %')"
   ]
  },
  {
   "cell_type": "markdown",
   "id": "1b8f08c4",
   "metadata": {},
   "source": [
    "### Comment\n",
    "The performance of a shallow NN is half the one of the Random forest."
   ]
  }
 ],
 "metadata": {
  "kernelspec": {
   "display_name": "Python 3 (ipykernel)",
   "language": "python",
   "name": "python3"
  },
  "language_info": {
   "codemirror_mode": {
    "name": "ipython",
    "version": 3
   },
   "file_extension": ".py",
   "mimetype": "text/x-python",
   "name": "python",
   "nbconvert_exporter": "python",
   "pygments_lexer": "ipython3",
   "version": "3.11.4"
  }
 },
 "nbformat": 4,
 "nbformat_minor": 5
}
